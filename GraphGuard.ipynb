{
 "cells": [
  {
   "cell_type": "markdown",
   "metadata": {},
   "source": [
    "# GraphGuard\n",
    "\n",
    "***Locate and find Classes in Apks with updated Obfuscation Mapping***\n",
    "\n",
    "\n",
    "Processing Steps:\n",
    "1. String Matcher (Finding Classes and Methods\n",
    "  * Counting Strings used in Classes and Methods and try to find exact matching counter.\n",
    "  * Find Classes by identifying Strings used only in this single Class.\n",
    "2. Structure Matcher (Finding Classes)\n",
    "  * Modifiers of class\n",
    "  * Modifiers, Parameters, Parameter Types and Return Types of Methods\n",
    "  * Number and Types of Fields.\n",
    "3. Method Matcher (Find Methods from matching Classes)\n",
    "  * Modifiers\n",
    "  * Return Type, Parameter Types\n",
    "  * Bytecode Length\n",
    "  * References to and from\n",
    "\n",
    "\n",
    "***If you use Akrolyb, please have a look at [Akrolyb Interoptability](#Interoptability-with-Akrolyb)***"
   ]
  },
  {
   "cell_type": "code",
   "execution_count": 1,
   "metadata": {
    "scrolled": true
   },
   "outputs": [
    {
     "data": {
      "text/html": [
       "<style>div.output_area pre {white-space: pre;}</style>"
      ],
      "text/plain": [
       "<IPython.core.display.HTML object>"
      ]
     },
     "metadata": {},
     "output_type": "display_data"
    }
   ],
   "source": [
    "%matplotlib notebook\n",
    "\n",
    "%load_ext autoreload\n",
    "%autoreload\n",
    "\n",
    "from IPython.core.display import display, HTML\n",
    "display(HTML(\"<style>div.output_area pre {white-space: pre;}</style>\"))"
   ]
  },
  {
   "cell_type": "code",
   "execution_count": 2,
   "metadata": {},
   "outputs": [],
   "source": [
    "from core.start import process_files\n",
    "from utils.formats import *\n",
    "\n",
    "from core.accumulator import Accumulator\n",
    "from core.decs import *\n",
    "\n",
    "from strategies import\\\n",
    "    strings as strings_strategy,\\\n",
    "    methods as methods_strategy,\\\n",
    "    structures as structures_strategy\n",
    "\n",
    "from utils import generate"
   ]
  },
  {
   "cell_type": "markdown",
   "metadata": {},
   "source": [
    "# Loading Androguard\n",
    "\n",
    "The following code loads the files and starts Androguard\n",
    "\n",
    "It should support multiprocessing, however the Pipe communication seems to break when transmitting the processed Androguard Objects. I suspect the Object is simply too big for Pickle to serialize or another component in the transmitting chain."
   ]
  },
  {
   "cell_type": "code",
   "execution_count": 3,
   "metadata": {},
   "outputs": [],
   "source": [
    "AG_SESSION_FILE = \"./Androguard.ag\"\n",
    "MULTIPROCESS_FILES = False  # Currently not working due to serialization issues\n",
    "\n",
    "\n",
    "# Strategy Rules & Parameters\n",
    "strings_strategy.MAX_USAGE_COUNT_STR = 20\n",
    "strings_strategy.UNIQUE_STRINGS_MAJORITY = 2 / 3\n",
    "\n",
    "methods_strategy.MIN_MATCH_POINTS = 2\n",
    "\n",
    "\n",
    "\n",
    "# APK Files to load\n",
    "file_paths = (\n",
    "    \"../../../Downloads/com.snapchat.android_10.85.5.74-2067_minAPI19(arm64-v8a)(nodpi)_apkmirror.com.apk\",\n",
    "    \"../../../Downloads/com.snapchat.android_10.86.5.61-2069_minAPI19(arm64-v8a)(nodpi)_apkmirror.com.apk\"\n",
    ")"
   ]
  },
  {
   "cell_type": "code",
   "execution_count": 4,
   "metadata": {},
   "outputs": [
    {
     "name": "stdout",
     "output_type": "stream",
     "text": [
      "Loading Session from Apk at ../../../Downloads/com.snapchat.android_10.85.5.74-2067_minAPI19(arm64-v8a)(nodpi)_apkmirror.com.apk\n",
      "Loading Session from Apk at ../../../Downloads/com.snapchat.android_10.86.5.61-2069_minAPI19(arm64-v8a)(nodpi)_apkmirror.com.apk\n"
     ]
    }
   ],
   "source": [
    "(a, d, dx), (a2, d2, dx2) = process_files(file_paths, MULTIPROCESS_FILES)"
   ]
  },
  {
   "cell_type": "markdown",
   "metadata": {},
   "source": [
    "# List of Classes, Methods and Variables\n",
    "\n",
    "Defining Elements that GraphGuard should try to match (obviously requires full class names).\n",
    "* `c_decs` in form of a tuple of Strings\n",
    "* `m_decs` in form of a tuple of MethodDeclarations\n",
    "* `f_decs` in form of a tuple of FieldDeclarations"
   ]
  },
  {
   "cell_type": "code",
   "execution_count": 5,
   "metadata": {},
   "outputs": [],
   "source": [
    "# Classes of the Methods and Fields to find are automatically merged with c_decs\n",
    "c_decs = tuple()"
   ]
  },
  {
   "cell_type": "code",
   "execution_count": 6,
   "metadata": {},
   "outputs": [],
   "source": [
    "m_decs = (\n",
    "    MethodDec(\"rD5\", \"a\", \"rD5\", \"qD5\"),\n",
    "    MethodDec(\"MSg\", \"j0\", \"SGd\"),\n",
    "    MethodDec(\"xke\", \"g\", \"PV4\"),\n",
    "    MethodDec(\"GIb\", \"<init>\", skip_params=True)\n",
    ")"
   ]
  },
  {
   "cell_type": "code",
   "execution_count": 7,
   "metadata": {},
   "outputs": [],
   "source": [
    "f_decs = tuple()"
   ]
  },
  {
   "cell_type": "code",
   "execution_count": 8,
   "metadata": {},
   "outputs": [],
   "source": [
    "orig_c_decs = c_decs\n",
    "\n",
    "# All c_decs that need to be resolved\n",
    "c_decs = tuple(map(lambda m: m.class_name, m_decs)) + tuple(map(lambda v: v.class_name, f_decs)) + c_decs"
   ]
  },
  {
   "cell_type": "markdown",
   "metadata": {},
   "source": [
    "# Processing and Matching\n",
    "\n",
    "Loading the accumulator, an object that manages all the possible candidates that are matched by the different Matchers, and extracts the matching candidates. It also performs Inner joins on previous candidates to find the exact (or optimal) match."
   ]
  },
  {
   "cell_type": "code",
   "execution_count": 9,
   "metadata": {},
   "outputs": [],
   "source": [
    "accumulator = Accumulator()"
   ]
  },
  {
   "cell_type": "markdown",
   "metadata": {},
   "source": [
    "Resolving the previously defined MethodDecs. If this fails, the MethodDecs are wrong and contain an error. Make sure the method specified with the MethodDec exists."
   ]
  },
  {
   "cell_type": "code",
   "execution_count": 10,
   "metadata": {},
   "outputs": [
    {
     "name": "stdout",
     "output_type": "stream",
     "text": [
      "Resolved all Classes, Methods and Fields\n"
     ]
    }
   ],
   "source": [
    "dec_cas = resolve_classes(dx, c_decs)\n",
    "\n",
    "r_cas = tuple(dec_cas.values())\n",
    "r_mas = resolve_methods(m_decs, dec_cas)\n",
    "r_fas = resolve_fields(f_decs, dec_cas)\n",
    "\n",
    "\n",
    "print(\"Resolved all Classes, Methods and Fields\")\n",
    "if False:\n",
    "    print(\"\", *map(pretty_format_ma, r_mas), sep=\"\\n* \")\n",
    "\n",
    "# Arguments to provide to Strategies\n",
    "s_args = (dx, dx2, r_cas, r_mas, r_fas, accumulator)"
   ]
  },
  {
   "cell_type": "markdown",
   "metadata": {},
   "source": [
    "## String Strategy\n",
    "\n",
    "### Exact Counter Match\n",
    "\n",
    "Extracts Strings used either in the given methods directly or in the classes the methods define for both, the old version and the new version. It then compares the Counters for classes and methods and tries to find exact matches between the Counter Objects."
   ]
  },
  {
   "cell_type": "code",
   "execution_count": 11,
   "metadata": {
    "scrolled": true
   },
   "outputs": [
    {
     "name": "stdout",
     "output_type": "stream",
     "text": [
      "+ Found single candidate for Method. Considering it a match \n",
      "\trD5#a(rD5, qD5) -> QE5#a(QE5, PE5)\n",
      "+ Found single candidate for Method. Considering it a match \n",
      "\tMSg#j0(SGd) -> V0h#j0(IMd)\n",
      "+ Matching Class of single candidate method match \n",
      "\tLrD5; -> LQE5;\n",
      "+ Matching Class of single candidate method match \n",
      "\tLMSg; -> LV0h;\n",
      "Could resolve 2 new Classes, 2 new Methods\n"
     ]
    }
   ],
   "source": [
    "string_s = strings_strategy.StringStrategy(*s_args)\n",
    "candidates_cs, candidates_ms = string_s.compare_counters()\n",
    "\n",
    "accumulator.add_candidates(candidates_cs, candidates_ms)"
   ]
  },
  {
   "cell_type": "markdown",
   "metadata": {},
   "source": [
    "### Unique Strings\n",
    "\n",
    "Gather all Strings that are used only in a single class (\"Unique Strings\") that we still need to match. Then try to find the matching class by only searching for the Unique Strings."
   ]
  },
  {
   "cell_type": "code",
   "execution_count": 12,
   "metadata": {},
   "outputs": [
    {
     "name": "stdout",
     "output_type": "stream",
     "text": [
      "+ Found single candidate for Class. Considering it a match! \n",
      "\tLxke; -> Lvre;\n",
      "Could resolve 1 new Classes, 0 new Methods\n"
     ]
    }
   ],
   "source": [
    "candidates_cs = string_s.compare_unique_strings(accumulator.get_unmatched_cs(r_cas))\n",
    "\n",
    "accumulator.add_candidates(candidates_cs)"
   ]
  },
  {
   "cell_type": "markdown",
   "metadata": {},
   "source": [
    "## Structure Matcher\n",
    "\n",
    "Iterating through every single class and checks for each unmatched class if both have a similar \"Profile\":\n",
    "* Number of Methods and Fields\n",
    "* Types of Fields and Descriptors of Methods"
   ]
  },
  {
   "cell_type": "code",
   "execution_count": 13,
   "metadata": {},
   "outputs": [
    {
     "name": "stdout",
     "output_type": "stream",
     "text": [
      "+ Found single candidate for Class. Considering it a match! \n",
      "\tLGIb; -> LFOb;\n",
      "Could resolve 1 new Classes, 0 new Methods\n"
     ]
    }
   ],
   "source": [
    "structure_s = structures_strategy.StructureStrategy(*s_args)\n",
    "candidates_cs = structure_s.get_exact_structure_matches()\n",
    "\n",
    "accumulator.add_candidates(candidates_cs)"
   ]
  },
  {
   "cell_type": "markdown",
   "metadata": {},
   "source": [
    "## Method Matcher\n",
    "\n",
    "Uses different weighted criteria to get exact or optimal matches. The criteria are:\n",
    "* Modifiers\n",
    "* Return Type and Parameter Types\n",
    "* Length of Bytecode\n",
    "* References to and from"
   ]
  },
  {
   "cell_type": "code",
   "execution_count": 14,
   "metadata": {},
   "outputs": [
    {
     "name": "stdout",
     "output_type": "stream",
     "text": [
      "Exact Matching\n",
      "\n",
      "+ Found single candidate for Method. Considering it a match \n",
      "\tGIb#<init>(java.lang.String, boolean, java.lang.String, java.lang.String, java.lang.String, java.lang.Long, Ds5, long, boolean, java.lang.Long, long) -> FOb#<init>(java.lang.String, boolean, java.lang.String, java.lang.String, java.lang.String, java.lang.Long, Xt5, long, boolean, java.lang.Long, long)\n",
      "Could resolve 0 new Classes, 1 new Methods\n",
      "\n",
      "Non-Exact Matching\n",
      "\n",
      "+ Found single candidate for Method. Considering it a match \n",
      "\txke#g(PV4) -> vre#g(pX4)\n",
      "+ Found single candidate for Method. Considering it a match \n",
      "\tGIb#<init>(java.lang.String, boolean, java.lang.String, java.lang.String, java.lang.String, java.lang.Long, Ds5, long, boolean, java.lang.Long, long) -> FOb#<init>(java.lang.String, boolean, java.lang.String, java.lang.String, java.lang.String, java.lang.Long, Xt5, long, boolean, java.lang.Long, long)\n",
      "Could resolve 0 new Classes, 1 new Methods\n"
     ]
    }
   ],
   "source": [
    "method_s = methods_strategy.MethodStrategy(*s_args)\n",
    "\n",
    "print(\"Exact Matching\")\n",
    "print()\n",
    "\n",
    "# Exact Matches\n",
    "candidates_ms = method_s.try_resolve_ms(accumulator.matching_cs, True)\n",
    "accumulator.add_candidates(candidates_ms=candidates_ms)\n",
    "\n",
    "print()\n",
    "print(\"Non-Exact Matching\")\n",
    "print()\n",
    "\n",
    "# Non-Exact Matches by using weights on the criteria\n",
    "candidates_ms = method_s.try_resolve_ms(accumulator.matching_cs, False)\n",
    "accumulator.add_candidates(candidates_ms=candidates_ms)"
   ]
  },
  {
   "cell_type": "code",
   "execution_count": 15,
   "metadata": {},
   "outputs": [],
   "source": [
    "for fa in r_fas:\n",
    "    ef = fa.get_field()\n",
    "    f_class = ef.get_class_name()\n",
    "    if f_class in accumulator.matching_cs:\n",
    "        f2_class = accumulator.matching_cs[f_class]\n",
    "    \n",
    "        ca2 = dx2.get_class_analysis(f2_class)\n",
    "        from androguard.core.bytecodes.dvm import EncodedField\n",
    "        from androguard.core.analysis.analysis import FieldAnalysis\n",
    "        cfs = (\n",
    "            (lambda f: f.get_field().get_access_flags_string(), 10),\n",
    "            (lambda f: f.get_field().get_descriptor(), 10),\n",
    "            (lambda f: f.get_field().get_size(), 5),\n",
    "            (lambda f: len(f.get_xref_read()), 4),\n",
    "            (lambda f: len(f.get_xref_write()), 4)\n",
    "        )\n",
    "        \n",
    "        scores = {fa2: sum(((cf(fa) == cf(fa2)) * score) for cf, score in cfs) for fa2 in ca2.get_fields()}\n",
    "        m = max(scores.values())\n",
    "        scores = filter(lambda x: x[1] == m, scores.items())\n",
    "        \n",
    "        print(\"Best Matches for Field\", pretty_format_fa(ef), \"in Class\", f2_class, \"-\", \", \".join(tuple(map(lambda x: str(x[0].name), scores))))"
   ]
  },
  {
   "cell_type": "markdown",
   "metadata": {},
   "source": [
    "# Results\n",
    "Display summary and matching pairs.\n",
    "\n",
    "Output to compatible MethodDec input to update from auto-updated values."
   ]
  },
  {
   "cell_type": "code",
   "execution_count": 16,
   "metadata": {
    "scrolled": false
   },
   "outputs": [
    {
     "name": "stdout",
     "output_type": "stream",
     "text": [
      "4 / 4 Classes were matched\n",
      "4 / 4 Methods were matched\n",
      "\n",
      "Matching Classes:\n",
      "• rD5 -> QE5\n",
      "• MSg -> V0h\n",
      "• xke -> vre\n",
      "• GIb -> FOb\n",
      "\n",
      "Matching Methods: \n",
      "• rD5#a(rD5, qD5) -> QE5#a(QE5, PE5)\n",
      "• MSg#j0(SGd) -> V0h#j0(IMd)\n",
      "• GIb#<init>(java.lang.String, boolean, java.lang.String, java.lang.String, java.lang.String, java.lang.Long, Ds5, long, boolean, java.lang.Long, long) -> FOb#<init>(java.lang.String, boolean, java.lang.String, java.lang.String, java.lang.String, java.lang.Long, Xt5, long, boolean, java.lang.Long, long)\n",
      "• xke#g(PV4) -> vre#g(pX4)\n"
     ]
    }
   ],
   "source": [
    "print(len(accumulator.matching_cs), \"/\", len(r_cas), \"Classes were matched\")\n",
    "print(len(accumulator.matching_ms), \"/\", len(m_decs), \"Methods were matched\")\n",
    "\n",
    "print()\n",
    "print(\"Matching Classes:\")\n",
    "for c1, c2 in accumulator.matching_cs.items():\n",
    "    print(\"•\", pretty_format_class(c1), \"->\", pretty_format_class(c2))\n",
    "\n",
    "print()\n",
    "print(\"Matching Methods: \")\n",
    "for m, ma in accumulator.matching_ms.items():\n",
    "    print(\"•\", pretty_format_ma(m), \"->\", pretty_format_ma(ma))"
   ]
  },
  {
   "cell_type": "code",
   "execution_count": 17,
   "metadata": {
    "scrolled": false
   },
   "outputs": [
    {
     "name": "stdout",
     "output_type": "stream",
     "text": [
      "m_decs = (\n",
      "\tMethodDec('QE5', 'a', 'QE5', 'PE5'),\n",
      "\tMethodDec('V0h', 'j0', 'IMd'),\n",
      "\tMethodDec('vre', 'g', 'pX4'),\n",
      "\tMethodDec('FOb', '<init>', 'java.lang.String', 'boolean', 'java.lang.String', 'java.lang.String', 'java.lang.String', 'java.lang.Long', 'Xt5', 'long', 'boolean', 'java.lang.Long', 'long')\n",
      ")\n"
     ]
    }
   ],
   "source": [
    "generate.generate_decs(r_mas, accumulator.matching_ms)"
   ]
  },
  {
   "cell_type": "markdown",
   "metadata": {},
   "source": [
    "# Interoptability with Akrolyb\n",
    "\n",
    "The following Code snippet allows to \"extract\" MethodDecs from MemberDeclarations in Akrolyb. This automates the process of providing GraphGuard the hooks it should find. Just paste the output (tuple of MethodDecs) in the corresponding section in this Notebook."
   ]
  },
  {
   "cell_type": "markdown",
   "metadata": {},
   "source": [
    "## Extract\n",
    "\n",
    "It is not in Python, since it would require a Kotlin Parser and evaluating imports, variables etc. Just executing the Constructors in Kotlin, then getting the values is much easier than static analysis. \n",
    "\n",
    "The `main` function can (and should) be run statically (locally on the machine and not on your Android) to build the list of `MethodDec`s that GraphGuard is supposed to match in an updated build of the target application. Adjust the MemberDeclarations Class to the Class where you declared the `MemberDeclaration`s.\n",
    "\n",
    "Note: This code does obviously not know if you left out the parameters on purpose (a lot of parameter types, or multiple constructors...). Please modify the results for the Methods concerned by using the optional `skip_params=True` argument for `MethodDec`.\n",
    "\n",
    "```kotlin\n",
    "fun main() {\n",
    "    fun MemberDec.formatToGraphGuard() = buildString {\n",
    "        append(\"MethodDec('\")\n",
    "        append(classDec.className)\n",
    "        append(\"', '\")\n",
    "        append(if (this@formatToGraphGuard is MethodDec) methodName else \"<init>\")\n",
    "        append(\"'\")\n",
    "        for (param in params) {\n",
    "            append(\", '\")\n",
    "            if (param is String)\n",
    "                append(param)\n",
    "            else if (param is ClassDec)\n",
    "                append(param.className)\n",
    "            else if (param is Class<*>)\n",
    "                append(param.name)\n",
    "            else error(\"Illegal Type for param\")\n",
    "            append(\"'\")\n",
    "        }\n",
    "        append(\")\")\n",
    "    }\n",
    "    \n",
    "    println(\"decs_to_find = (\")\n",
    "    val strs = MemberDeclarations::class.java.declaredFields.mapNotNull {\n",
    "        it.isAccessible = true\n",
    "        val x = it.get(MemberDeclarations)\n",
    "        if (x !is MemberDec) return@mapNotNull null\n",
    "\n",
    "        x.formatToGraphGuard()\n",
    "    }.joinToString(separator = \",\\n\\t\", prefix = \"\\t\")\n",
    "    println(strs)\n",
    "    println(\")\")\n",
    "}\n",
    "```"
   ]
  }
 ],
 "metadata": {
  "kernelspec": {
   "display_name": "Python 3",
   "language": "python",
   "name": "python3"
  },
  "language_info": {
   "codemirror_mode": {
    "name": "ipython",
    "version": 3
   },
   "file_extension": ".py",
   "mimetype": "text/x-python",
   "name": "python",
   "nbconvert_exporter": "python",
   "pygments_lexer": "ipython3",
   "version": "3.8.3"
  }
 },
 "nbformat": 4,
 "nbformat_minor": 4
}
