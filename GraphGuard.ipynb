{
 "cells": [
  {
   "cell_type": "markdown",
   "metadata": {},
   "source": [
    "# GraphGuard\n",
    "\n",
    "***Locate and find Classes in Apks with updated Obfuscation Mapping***\n",
    "\n",
    "\n",
    "Processing Steps:\n",
    "1. String Matcher (Finding Classes and Methods\n",
    "  * Counting Strings used in Classes and Methods and try to find exact matching counter.\n",
    "  * Find Classes by identifying Strings used only in this single Class.\n",
    "2. Structure Matcher (Finding Classes)\n",
    "  * Modifiers of class\n",
    "  * Modifiers, Parameters, Parameter Types and Return Types of Methods\n",
    "  * Number and Types of Fields.\n",
    "3. Method Matcher (Find Methods from matching Classes)\n",
    "  * Modifiers\n",
    "  * Return Type, Parameter Types\n",
    "  * Bytecode Length\n",
    "  * References to and from\n",
    "\n",
    "\n",
    "***If you use Akrolyb, please have a look at [Akrolyb Interoptability](#Interoptability-with-Akrolyb)***"
   ]
  },
  {
   "cell_type": "code",
   "execution_count": 1,
   "metadata": {},
   "outputs": [
    {
     "data": {
      "text/html": [
       "<style>div.output_area pre {white-space: pre;}</style>"
      ],
      "text/plain": [
       "<IPython.core.display.HTML object>"
      ]
     },
     "metadata": {},
     "output_type": "display_data"
    }
   ],
   "source": [
    "%matplotlib notebook\n",
    "\n",
    "\n",
    "from IPython.core.display import display, HTML\n",
    "display(HTML(\"<style>div.output_area pre {white-space: pre;}</style>\"))"
   ]
  },
  {
   "cell_type": "code",
   "execution_count": 2,
   "metadata": {},
   "outputs": [],
   "source": [
    "from formats import *\n",
    "from decs import *\n",
    "\n",
    "from matching import matcher, strings, structures, methods\n",
    "import generate\n",
    "\n",
    "from start import process_files"
   ]
  },
  {
   "cell_type": "markdown",
   "metadata": {},
   "source": [
    "# Loading Androguard\n",
    "\n",
    "The following code loads the files and starts Androguard\n",
    "\n",
    "It should support multiprocessing, however the Pipe communication seems to break when transmitting the processed Androguard Objects. I suspect the Object is simply too big for Pickle to serialize or another component in the transmitting chain."
   ]
  },
  {
   "cell_type": "code",
   "execution_count": 3,
   "metadata": {},
   "outputs": [],
   "source": [
    "AG_SESSION_FILE = \"./Androguard.ag\"\n",
    "MULTIPROCESS_FILES = False  # Currently not working due to serialization issues\n",
    "\n",
    "\n",
    "# Matching Rules\n",
    "strings.MAX_USAGE_COUNT_STR = 20\n",
    "strings.UNIQUE_STRINGS_MAJORITY = 2 / 3\n",
    "\n",
    "methods.MIN_MATCH_POINTS = 2\n",
    "\n",
    "\n",
    "\n",
    "# APK Files to load\n",
    "file_paths = (\n",
    "    \"../../../Downloads/com.snapchat.android_10.85.5.74-2067_minAPI19(arm64-v8a)(nodpi)_apkmirror.com.apk\",\n",
    "    \"../../../Downloads/com.snapchat.android_10.86.5.61-2069_minAPI19(arm64-v8a)(nodpi)_apkmirror.com.apk\"\n",
    ")"
   ]
  },
  {
   "cell_type": "code",
   "execution_count": 4,
   "metadata": {},
   "outputs": [
    {
     "name": "stdout",
     "output_type": "stream",
     "text": [
      "Loading Session from Apk at ../../../Downloads/com.snapchat.android_10.85.5.74-2067_minAPI19(arm64-v8a)(nodpi)_apkmirror.com.apk\n",
      "Loading Session from Apk at ../../../Downloads/com.snapchat.android_10.86.5.61-2069_minAPI19(arm64-v8a)(nodpi)_apkmirror.com.apk\n"
     ]
    }
   ],
   "source": [
    "(a, d, dx), (a2, d2, dx2) = process_files(file_paths, MULTIPROCESS_FILES)"
   ]
  },
  {
   "cell_type": "markdown",
   "metadata": {},
   "source": [
    "# List of Methods\n",
    "\n",
    "Defining the list of methods to find (obviously requires full class names)"
   ]
  },
  {
   "cell_type": "code",
   "execution_count": 5,
   "metadata": {},
   "outputs": [],
   "source": [
    "decs_to_find = (\n",
    "    MethodDec(\"rD5\", \"a\", \"rD5\", \"qD5\"),\n",
    "    MethodDec(\"MSg\", \"j0\", \"SGd\"),\n",
    "    MethodDec(\"xke\", \"g\", \"PV4\"),\n",
    "    MethodDec(\"GIb\", \"<init>\", skip_params=True)\n",
    ")"
   ]
  },
  {
   "cell_type": "markdown",
   "metadata": {},
   "source": [
    "# Processing and Matching\n",
    "\n",
    "Loading the accumulator, an object that manages all the possible candidates that are matched by the different Matchers, and extracts the matching candidates. It also performs Inner joins on previous candidates to find the exact (or optimal) match."
   ]
  },
  {
   "cell_type": "code",
   "execution_count": 6,
   "metadata": {},
   "outputs": [],
   "source": [
    "accumulator = matcher.Accumulator()"
   ]
  },
  {
   "cell_type": "markdown",
   "metadata": {},
   "source": [
    "Resolving the previously defined MethodDecs. If this fails, the MethodDecs are wrong and contain an error. Make sure the method specified with the MethodDec exists."
   ]
  },
  {
   "cell_type": "code",
   "execution_count": 7,
   "metadata": {},
   "outputs": [
    {
     "name": "stdout",
     "output_type": "stream",
     "text": [
      "Resolved all Classes and Methods\n"
     ]
    }
   ],
   "source": [
    "resolved_classes = resolve_classes(dx, decs_to_find)\n",
    "resolved_methods = resolve_methods(decs_to_find, resolved_classes)\n",
    "decs_ma = dict(zip(decs_to_find, resolved_methods))\n",
    "\n",
    "print(\"Resolved all Classes and Methods\")\n",
    "if False:\n",
    "    print(\"\", *map(pretty_format_ma,resolved_methods), sep=\"\\n* \")\n",
    "\n",
    "# Arguments to provider to Matchers\n",
    "args = (dx, dx2, resolved_classes, decs_ma)"
   ]
  },
  {
   "cell_type": "markdown",
   "metadata": {},
   "source": [
    "## String Matcher\n",
    "\n",
    "### Exact Counter Match\n",
    "\n",
    "Extracts Strings used either in the given methods directly or in the classes the methods define for both, the old version and the new version. It then compares the Counters for classes and methods and tries to find exact matches between the Counter Objects."
   ]
  },
  {
   "cell_type": "code",
   "execution_count": 8,
   "metadata": {
    "scrolled": true
   },
   "outputs": [
    {
     "name": "stdout",
     "output_type": "stream",
     "text": [
      "+ Found single candidate for matching Class. Considering it a match! \n",
      "\tLrD5; -> LQE5;\n",
      "+ Found single candidate for matching Class. Considering it a match! \n",
      "\tLxke; -> Lvre;\n",
      "+ Found single candidate for matching Class. Considering it a match! \n",
      "\tLMSg; -> LV0h;\n",
      "+ Found single candidate for matching Method. Considering it a match \n",
      "\trD5#a(rD5, qD5) -> QE5#a(QE5, PE5)\n",
      "+ Found single candidate for matching Method. Considering it a match \n",
      "\tMSg#j0(SGd) -> V0h#j0(IMd)\n",
      "Could resolve 3 new Classes, 2 new Methods\n"
     ]
    }
   ],
   "source": [
    "string_matcher = strings.StringMatcher(*args, accumulator.get_unmatched_ms(decs_to_find))\n",
    "candidates_cs, candidates_ms = string_matcher.compare_counters()\n",
    "\n",
    "accumulator.add_candidates(candidates_cs, candidates_ms)"
   ]
  },
  {
   "cell_type": "markdown",
   "metadata": {},
   "source": [
    "### Unique Strings\n",
    "\n",
    "Gather all Strings that are used only in a single class (\"Unique Strings\") that we still need to match. Then try to find the matching class by only searching for the Unique Strings."
   ]
  },
  {
   "cell_type": "code",
   "execution_count": 9,
   "metadata": {},
   "outputs": [
    {
     "name": "stdout",
     "output_type": "stream",
     "text": [
      "Could resolve 0 new Classes, 0 new Methods\n"
     ]
    }
   ],
   "source": [
    "candidates_cs = string_matcher.compare_unique_strings(accumulator.get_unmatched_cs(decs_to_find))\n",
    "\n",
    "accumulator.add_candidates(candidates_cs)"
   ]
  },
  {
   "cell_type": "markdown",
   "metadata": {},
   "source": [
    "## Structure Matcher\n",
    "\n",
    "Iterating through every single class and checks for each unmatched class if both have a similar \"Profile\":\n",
    "* Number of Methods and Fields\n",
    "* Types of Fields and Descriptors of Methods"
   ]
  },
  {
   "cell_type": "code",
   "execution_count": 10,
   "metadata": {},
   "outputs": [
    {
     "name": "stdout",
     "output_type": "stream",
     "text": [
      "+ Found single candidate for matching Class. Considering it a match! \n",
      "\tLGIb; -> LFOb;\n",
      "Could resolve 1 new Classes, 0 new Methods\n"
     ]
    }
   ],
   "source": [
    "structure_matcher = structures.StructureMatcher(*args, accumulator.get_unmatched_ms(decs_to_find))\n",
    "candidates_cs = structure_matcher.get_exact_structure_matches(accumulator.get_unmatched_cs(decs_to_find))\n",
    "\n",
    "accumulator.add_candidates(candidates_cs)"
   ]
  },
  {
   "cell_type": "markdown",
   "metadata": {},
   "source": [
    "## Method Matcher\n",
    "\n",
    "Uses different weighted criteria to get exact or optimal matches. The criteria are:\n",
    "* Modifiers\n",
    "* Return Type and Parameter Types\n",
    "* Length of Bytecode\n",
    "* References to and from"
   ]
  },
  {
   "cell_type": "code",
   "execution_count": 11,
   "metadata": {},
   "outputs": [
    {
     "name": "stdout",
     "output_type": "stream",
     "text": [
      "Exact Matching\n",
      "\n",
      "+ Found single candidate for matching Method. Considering it a match \n",
      "\tGIb#<init>(skip.params) -> FOb#<init>(java.lang.String, boolean, java.lang.String, java.lang.String, java.lang.String, java.lang.Long, Xt5, long, boolean, java.lang.Long, long)\n",
      "Could resolve 0 new Classes, 1 new Methods\n",
      "\n",
      "Non-Exact Matching\n",
      "\n",
      "+ Found single candidate for matching Method. Considering it a match \n",
      "\txke#g(PV4) -> vre#g(pX4)\n",
      "+ Found single candidate for matching Method. Considering it a match \n",
      "\tGIb#<init>(skip.params) -> FOb#<init>(java.lang.String, boolean, java.lang.String, java.lang.String, java.lang.String, java.lang.Long, Xt5, long, boolean, java.lang.Long, long)\n",
      "Could resolve 0 new Classes, 1 new Methods\n"
     ]
    }
   ],
   "source": [
    "method_matcher = methods.MethodMatcher(*args, accumulator.get_unmatched_ms(decs_to_find))\n",
    "\n",
    "print(\"Exact Matching\")\n",
    "print()\n",
    "\n",
    "# Exact Matches\n",
    "candidates_ms = method_matcher.try_resolve_ms(accumulator.get_unmatched_cs(decs_to_find), accumulator.matching_cs, True)\n",
    "accumulator.add_candidates(candidates_ms=candidates_ms)\n",
    "\n",
    "print()\n",
    "print(\"Non-Exact Matching\")\n",
    "print()\n",
    "\n",
    "# Non-Exact Matches by using weights on the criteria\n",
    "candidates_ms = method_matcher.try_resolve_ms(accumulator.get_unmatched_cs(decs_to_find), accumulator.matching_cs, False)\n",
    "accumulator.add_candidates(candidates_ms=candidates_ms)"
   ]
  },
  {
   "cell_type": "markdown",
   "metadata": {},
   "source": [
    "# Results\n",
    "Display summary and matching pairs.\n",
    "\n",
    "Output to compatible MethodDec input to update from auto-updated values."
   ]
  },
  {
   "cell_type": "code",
   "execution_count": 12,
   "metadata": {},
   "outputs": [
    {
     "name": "stdout",
     "output_type": "stream",
     "text": [
      "4 / 4 Classes were matched\n",
      "4 / 4 Methods were matched\n",
      "\n",
      "Matching Classes:\n",
      "• rD5 -> QE5\n",
      "• xke -> vre\n",
      "• MSg -> V0h\n",
      "• GIb -> FOb\n",
      "\n",
      "Matching Methods: \n",
      "• rD5#a(rD5, qD5) -> QE5#a(QE5, PE5)\n",
      "• MSg#j0(SGd) -> V0h#j0(IMd)\n",
      "• GIb#<init>(skip.params) -> FOb#<init>(java.lang.String, boolean, java.lang.String, java.lang.String, java.lang.String, java.lang.Long, Xt5, long, boolean, java.lang.Long, long)\n",
      "• xke#g(PV4) -> vre#g(pX4)\n"
     ]
    }
   ],
   "source": [
    "print(len(accumulator.matching_cs), \"/\", len(resolved_classes), \"Classes were matched\")\n",
    "print(len(accumulator.matching_ms), \"/\", len(decs_to_find), \"Methods were matched\")\n",
    "\n",
    "print()\n",
    "print(\"Matching Classes:\")\n",
    "for c1, c2 in accumulator.matching_cs.items():\n",
    "    print(\"•\", pretty_format_class(c1), \"->\", pretty_format_class(c2))\n",
    "\n",
    "print()\n",
    "print(\"Matching Methods: \")\n",
    "for m, ma in accumulator.matching_ms.items():\n",
    "    print(\"•\", m.pretty_format(), \"->\", pretty_format_ma(ma))"
   ]
  },
  {
   "cell_type": "code",
   "execution_count": 13,
   "metadata": {},
   "outputs": [
    {
     "name": "stdout",
     "output_type": "stream",
     "text": [
      "decs_to_find = (\n",
      "\tMethodDec('QE5', 'a', 'QE5', 'PE5'),\n",
      "\tMethodDec('V0h', 'j0', 'IMd'),\n",
      "\tMethodDec('vre', 'g', 'pX4'),\n",
      "\tMethodDec('FOb', '<init>', 'java.lang.String', 'boolean', 'java.lang.String', 'java.lang.String', 'java.lang.String', 'java.lang.Long', 'Xt5', 'long', 'boolean', 'java.lang.Long', 'long')\n",
      ")\n"
     ]
    }
   ],
   "source": [
    "generate.generate_decs(decs_to_find, accumulator.matching_ms)"
   ]
  },
  {
   "cell_type": "markdown",
   "metadata": {},
   "source": [
    "# Interoptability with Akrolyb\n",
    "\n",
    "The following Code snippet allows to \"extract\" MethodDecs from MemberDeclarations in Akrolyb. This automates the process of providing GraphGuard the hooks it should find. Just paste the output (tuple of MethodDecs) in the corresponding section in this Notebook."
   ]
  },
  {
   "cell_type": "markdown",
   "metadata": {},
   "source": [
    "## Extract\n",
    "\n",
    "It is not in Python, since it would require a Kotlin Parser and evaluating imports, variables etc. Just executing the Constructors in Kotlin, then getting the values is much easier than static analysis. \n",
    "\n",
    "The `main` function can (and should) be run statically (locally on the machine and not on your Android) to build the list of `MethodDec`s that GraphGuard is supposed to match in an updated build of the target application. Adjust the MemberDeclarations Class to the Class where you declared the `MemberDeclaration`s.\n",
    "\n",
    "Note: This code does obviously not know if you left out the parameters on purpose (a lot of parameter types, or multiple constructors...). Please modify the results for the Methods concerned by using the optional `skip_params=True` argument for `MethodDec`.\n",
    "\n",
    "```kotlin\n",
    "fun main() {\n",
    "    fun MemberDec.formatToGraphGuard() = buildString {\n",
    "        append(\"MethodDec('\")\n",
    "        append(classDec.className)\n",
    "        append(\"', '\")\n",
    "        append(if (this@formatToGraphGuard is MethodDec) methodName else \"<init>\")\n",
    "        append(\"'\")\n",
    "        for (param in params) {\n",
    "            append(\", '\")\n",
    "            if (param is String)\n",
    "                append(param)\n",
    "            else if (param is ClassDec)\n",
    "                append(param.className)\n",
    "            else if (param is Class<*>)\n",
    "                append(param.name)\n",
    "            else error(\"Illegal Type for param\")\n",
    "            append(\"'\")\n",
    "        }\n",
    "        append(\")\")\n",
    "    }\n",
    "    \n",
    "    println(\"decs_to_find = (\")\n",
    "    val strs = MemberDeclarations::class.java.declaredFields.mapNotNull {\n",
    "        it.isAccessible = true\n",
    "        val x = it.get(MemberDeclarations)\n",
    "        if (x !is MemberDec) return@mapNotNull null\n",
    "\n",
    "        x.formatToGraphGuard()\n",
    "    }.joinToString(separator = \",\\n\\t\", prefix = \"\\t\")\n",
    "    println(strs)\n",
    "    println(\")\")\n",
    "}\n",
    "```"
   ]
  }
 ],
 "metadata": {
  "kernelspec": {
   "display_name": "Python 3",
   "language": "python",
   "name": "python3"
  },
  "language_info": {
   "codemirror_mode": {
    "name": "ipython",
    "version": 3
   },
   "file_extension": ".py",
   "mimetype": "text/x-python",
   "name": "python",
   "nbconvert_exporter": "python",
   "pygments_lexer": "ipython3",
   "version": "3.8.3"
  }
 },
 "nbformat": 4,
 "nbformat_minor": 4
}
