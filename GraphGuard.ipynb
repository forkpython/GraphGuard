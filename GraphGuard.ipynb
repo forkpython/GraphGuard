{
 "cells": [
  {
   "cell_type": "markdown",
   "metadata": {},
   "source": [
    "# GraphGuard\n",
    "\n",
    "***Locate and find Classes in Apks with updated Obfuscation Mapping***\n",
    "\n",
    "\n",
    "Processing Steps:\n",
    "1. String Matcher (Finding Classes and Methods\n",
    "  * Counting Strings used in Classes and Methods and try to find exact matching counter.\n",
    "  * Find Classes by identifying Strings used only in this single Class.\n",
    "2. Structure Matcher (Finding Classes)\n",
    "  * Modifiers of class\n",
    "  * Modifiers, Parameters, Parameter Types and Return Types of Methods\n",
    "  * Number and Types of Fields.\n",
    "3. Method Matcher (Find Methods from matching Classes)\n",
    "  * Modifiers\n",
    "  * Return Type, Parameter Types\n",
    "  * Bytecode Length\n",
    "  * References to and from\n",
    "\n",
    "\n",
    "***If you use Akrolyb, please have a look at [Akrolyb Interoptability](#Interoptability-with-Akrolyb)***"
   ]
  },
  {
   "cell_type": "code",
   "execution_count": 1,
   "metadata": {
    "scrolled": true
   },
   "outputs": [
    {
     "data": {
      "text/html": [
       "<style>div.output_area pre {white-space: pre;}</style>"
      ],
      "text/plain": [
       "<IPython.core.display.HTML object>"
      ]
     },
     "metadata": {},
     "output_type": "display_data"
    }
   ],
   "source": [
    "%matplotlib notebook\n",
    "\n",
    "%load_ext autoreload\n",
    "%autoreload\n",
    "\n",
    "from IPython.core.display import display, HTML\n",
    "display(HTML(\"<style>div.output_area pre {white-space: pre;}</style>\"))"
   ]
  },
  {
   "cell_type": "code",
   "execution_count": 2,
   "metadata": {},
   "outputs": [],
   "source": [
    "from core.start import process_files\n",
    "from utils.formats import *\n",
    "\n",
    "from core.accumulator import Accumulator\n",
    "from core.decs import *\n",
    "\n",
    "from strategies import\\\n",
    "    strings as strings_strategy,\\\n",
    "    methods as methods_strategy,\\\n",
    "    structures as structures_strategy,\\\n",
    "    fields as fields_strategy\n",
    "\n",
    "from core.strategy_handler import StrategyHandler, FLAG_CLASS, FLAG_METHOD, FLAG_FIELD\n",
    "\n",
    "from utils import generate"
   ]
  },
  {
   "cell_type": "markdown",
   "metadata": {},
   "source": [
    "# Loading Androguard\n",
    "\n",
    "The following code loads the files and starts Androguard\n",
    "\n",
    "It should support multiprocessing, however the Pipe communication seems to break when transmitting the processed Androguard Objects. I suspect the Object is simply too big for Pickle to serialize or another component in the transmitting chain."
   ]
  },
  {
   "cell_type": "code",
   "execution_count": 3,
   "metadata": {},
   "outputs": [],
   "source": [
    "AG_SESSION_FILE = \"./Androguard.ag\"\n",
    "MULTIPROCESS_FILES = False  # Currently not working due to serialization issues\n",
    "\n",
    "\n",
    "# Strategy Rules & Parameters\n",
    "strings_strategy.MAX_USAGE_COUNT_STR = 20\n",
    "strings_strategy.UNIQUE_STRINGS_MAJORITY = 2 / 3\n",
    "\n",
    "methods_strategy.MIN_MATCH_POINTS = 2\n",
    "\n",
    "\n",
    "# APK Files to load\n",
    "file_paths = (\n",
    "    \"../../../Downloads/com.snapchat.android_10.86.5.61-2069_minAPI19(arm64-v8a)(nodpi)_apkmirror.com.apk\",\n",
    "    \"../../../Downloads/com.snapchat.android_10.87.5.69-2074_minAPI19(arm64-v8a)(nodpi)_apkmirror.com.apk\"\n",
    ")"
   ]
  },
  {
   "cell_type": "code",
   "execution_count": 4,
   "metadata": {},
   "outputs": [
    {
     "name": "stdout",
     "output_type": "stream",
     "text": [
      "Loading Session from Apk at ../../../Downloads/com.snapchat.android_10.86.5.61-2069_minAPI19(arm64-v8a)(nodpi)_apkmirror.com.apk\n",
      "Loading Session from Apk at ../../../Downloads/com.snapchat.android_10.87.5.69-2074_minAPI19(arm64-v8a)(nodpi)_apkmirror.com.apk\n"
     ]
    }
   ],
   "source": [
    "(a, d, dx), (a2, d2, dx2) = process_files(file_paths, MULTIPROCESS_FILES)"
   ]
  },
  {
   "cell_type": "markdown",
   "metadata": {},
   "source": [
    "# List of Classes, Methods and Variables\n",
    "\n",
    "Defining Elements that GraphGuard should try to match (obviously requires full class names).\n",
    "* `c_decs` in form of a tuple of Strings\n",
    "* `m_decs` in form of a tuple of MethodDeclarations\n",
    "* `f_decs` in form of a tuple of FieldDeclarations"
   ]
  },
  {
   "cell_type": "code",
   "execution_count": 5,
   "metadata": {},
   "outputs": [],
   "source": [
    "# Classes of the Methods and Fields are automatically merged with c_decs\n",
    "c_decs = (\n",
    "    \"com.snap.mushroom.MainActivity\",\n",
    ")"
   ]
  },
  {
   "cell_type": "code",
   "execution_count": 6,
   "metadata": {},
   "outputs": [],
   "source": [
    "m_decs = (\n",
    "    MethodDec('QE5', 'a', 'QE5', 'PE5'),\n",
    "    MethodDec('V0h', 'j0', 'IMd'),\n",
    "    MethodDec('vre', 'g', 'pX4'),\n",
    "    MethodDec('FOb', '<init>', 'java.lang.String', 'boolean', 'java.lang.String', 'java.lang.String', 'java.lang.String', 'java.lang.Long', 'Xt5', 'long', 'boolean', 'java.lang.Long', 'long')\n",
    ")"
   ]
  },
  {
   "cell_type": "code",
   "execution_count": 7,
   "metadata": {},
   "outputs": [],
   "source": [
    "f_decs = tuple()"
   ]
  },
  {
   "cell_type": "code",
   "execution_count": 8,
   "metadata": {},
   "outputs": [],
   "source": [
    "# Add Classes of Methods and Fields to c_decs\n",
    "orig_c_decs, c_decs = c_decs, tuple(map(lambda m: m.class_name, m_decs)) \\\n",
    "        + tuple(map(lambda v: v.class_name, f_decs)) + c_decs"
   ]
  },
  {
   "cell_type": "markdown",
   "metadata": {},
   "source": [
    "# Processing and Matching\n",
    "\n",
    "Loading the accumulator, an object that manages all the possible candidates that are matched by the different Matchers, and extracts the matching candidates. It also performs Inner joins on previous candidates to find the exact (or optimal) match."
   ]
  },
  {
   "cell_type": "code",
   "execution_count": 9,
   "metadata": {},
   "outputs": [],
   "source": [
    "accumulator = Accumulator()"
   ]
  },
  {
   "cell_type": "markdown",
   "metadata": {},
   "source": [
    "Resolving the previously defined MethodDecs. If this fails, the MethodDecs are wrong and contain an error. Make sure the method specified with the MethodDec exists."
   ]
  },
  {
   "cell_type": "code",
   "execution_count": 10,
   "metadata": {},
   "outputs": [
    {
     "name": "stdout",
     "output_type": "stream",
     "text": [
      "Resolved all Classes, Methods and Fields\n"
     ]
    }
   ],
   "source": [
    "dec_cas = resolve_classes(dx, c_decs)\n",
    "\n",
    "r_cas = tuple(dec_cas.values())\n",
    "r_mas = resolve_methods(m_decs, dec_cas)\n",
    "r_fas = resolve_fields(f_decs, dec_cas)\n",
    "\n",
    "\n",
    "print(\"Resolved all Classes, Methods and Fields\")\n",
    "if False:\n",
    "    print(\"\", *map(pretty_format_ma, r_mas), sep=\"\\n* \")\n",
    "\n",
    "# Arguments to provide to Strategies\n",
    "s_args = (dx, dx2, r_cas, r_mas, r_fas, accumulator)"
   ]
  },
  {
   "cell_type": "code",
   "execution_count": 11,
   "metadata": {},
   "outputs": [],
   "source": [
    "strategies = StrategyHandler()"
   ]
  },
  {
   "cell_type": "markdown",
   "metadata": {},
   "source": [
    "## String Strategy\n",
    "\n",
    "### Exact Counter Match\n",
    "\n",
    "Extracts Strings used either in the given methods directly or in the classes the methods define for both, the old version and the new version. It then compares the Counters for classes and methods and tries to find exact matches between the Counter Objects."
   ]
  },
  {
   "cell_type": "code",
   "execution_count": 12,
   "metadata": {
    "scrolled": false
   },
   "outputs": [
    {
     "name": "stdout",
     "output_type": "stream",
     "text": [
      "+ Found single candidate for Method. Considering it a match \n",
      "\tQE5#a(QE5, PE5) -> eG5#a(eG5, dG5)\n",
      "+ Found single candidate for Method. Considering it a match \n",
      "\tV0h#j0(IMd) -> eah#j0(KTd)\n",
      "+ Matching Class of single candidate method match \n",
      "\tLQE5; -> LeG5;\n",
      "+ Matching Class of single candidate method match \n",
      "\tLV0h; -> Leah;\n",
      "Could resolve 2 new Classes, 2 new Methods, 0 new Fields.\n"
     ]
    }
   ],
   "source": [
    "def string_counter_strategy(r_cas, r_mas, r_fas):\n",
    "    string_s = strings_strategy.StringStrategy(dx, dx2, r_cas, r_mas, r_fas, accumulator)\n",
    "    candidates_cs, candidates_ms = string_s.compare_counters()\n",
    "    \n",
    "    accumulator.add_candidates(candidates_cs, candidates_ms)\n",
    "\n",
    "strategies.add_strategy(string_counter_strategy, FLAG_CLASS | FLAG_METHOD)\n",
    "strategies.invoke_strategies(r_cas, r_mas, r_fas, only_new=True)"
   ]
  },
  {
   "cell_type": "markdown",
   "metadata": {},
   "source": [
    "### Unique Strings\n",
    "\n",
    "Gather all Strings that are used only in a single class (\"Unique Strings\") that we still need to match. Then try to find the matching class by only searching for the Unique Strings."
   ]
  },
  {
   "cell_type": "code",
   "execution_count": 13,
   "metadata": {},
   "outputs": [
    {
     "name": "stdout",
     "output_type": "stream",
     "text": [
      "+ Found single candidate for Class. Considering it a match! \n",
      "\tLvre; -> Lfze;\n",
      "+ Found single candidate for Class. Considering it a match! \n",
      "\tLcom/snap/mushroom/MainActivity; -> Lcom/snap/mushroom/MainActivity;\n",
      "Could resolve 2 new Classes, 0 new Methods, 0 new Fields.\n"
     ]
    }
   ],
   "source": [
    "def unique_strings_strategy(r_cas, r_mas, r_fas):\n",
    "    string_s = strings_strategy.StringStrategy(dx, dx2, r_cas, r_mas, r_fas, accumulator)\n",
    "    candidates_cs = string_s.compare_unique_strings()\n",
    "    \n",
    "    accumulator.add_candidates(candidates_cs)\n",
    "\n",
    "strategies.add_strategy(unique_strings_strategy, FLAG_CLASS)\n",
    "strategies.invoke_strategies(r_cas, r_mas, r_fas, only_new=True)"
   ]
  },
  {
   "cell_type": "markdown",
   "metadata": {},
   "source": [
    "## Structure Strategy\n",
    "\n",
    "Iterating through every single class and checks for each unmatched class if both have a similar \"Profile\":\n",
    "* Number of Methods and Fields\n",
    "* Types of Fields and Descriptors of Methods"
   ]
  },
  {
   "cell_type": "code",
   "execution_count": 14,
   "metadata": {},
   "outputs": [
    {
     "name": "stdout",
     "output_type": "stream",
     "text": [
      "+ Found single candidate for Class. Considering it a match! \n",
      "\tLFOb; -> LqUb;\n",
      "Could resolve 1 new Classes, 0 new Methods, 0 new Fields.\n"
     ]
    }
   ],
   "source": [
    "def structure_strategy(r_cas, r_mas, r_fas):\n",
    "    structure_s = structures_strategy.StructureStrategy(dx, dx2, r_cas, r_mas, r_fas, accumulator)\n",
    "    candidates_cs = structure_s.get_exact_structure_matches()\n",
    "\n",
    "    accumulator.add_candidates(candidates_cs)\n",
    "\n",
    "strategies.add_strategy(structure_strategy, FLAG_CLASS)\n",
    "strategies.invoke_strategies(r_cas, r_mas, r_fas, only_new=True)"
   ]
  },
  {
   "cell_type": "markdown",
   "metadata": {},
   "source": [
    "## Method Strategy\n",
    "\n",
    "Uses different weighted criteria to get exact or optimal matches. The criteria are:\n",
    "* Modifiers\n",
    "* Return Type and Parameter Types\n",
    "* Length of Bytecode\n",
    "* References to and from"
   ]
  },
  {
   "cell_type": "code",
   "execution_count": 15,
   "metadata": {
    "scrolled": false
   },
   "outputs": [
    {
     "name": "stdout",
     "output_type": "stream",
     "text": [
      "Exact Matching\n",
      "\n",
      "+ Found single candidate for Method. Considering it a match \n",
      "\tFOb#<init>(java.lang.String, boolean, java.lang.String, java.lang.String, java.lang.String, java.lang.Long, Xt5, long, boolean, java.lang.Long, long) -> qUb#<init>(java.lang.String, boolean, java.lang.String, java.lang.String, java.lang.String, java.lang.Long, jv5, long, boolean, java.lang.Long, long)\n",
      "Could resolve 0 new Classes, 1 new Methods, 0 new Fields.\n",
      "\n",
      "Non-Exact Matching\n",
      "\n",
      "+ Found single candidate for Method. Considering it a match \n",
      "\tvre#g(pX4) -> fze#g(iY4)\n",
      "Could resolve 0 new Classes, 1 new Methods, 0 new Fields.\n"
     ]
    }
   ],
   "source": [
    "def method_strategy(r_cas, r_mas, r_fas):\n",
    "    method_s = methods_strategy.MethodStrategy(dx, dx2, r_cas, r_mas, r_fas, accumulator)\n",
    "\n",
    "    print(\"Exact Matching\")\n",
    "    print()\n",
    "\n",
    "    # Exact Matches\n",
    "    candidates_ms = method_s.try_resolve_ms(True)\n",
    "    accumulator.add_candidates(candidates_ms=candidates_ms)\n",
    "\n",
    "    print()\n",
    "    print(\"Non-Exact Matching\")\n",
    "    print()\n",
    "\n",
    "    method_s.update_matched()\n",
    "    # Non-Exact Matches by using weights on the criteria\n",
    "    candidates_ms = method_s.try_resolve_ms(False)\n",
    "    accumulator.add_candidates(candidates_ms=candidates_ms)\n",
    "    \n",
    "strategies.add_strategy(method_strategy, FLAG_METHOD)\n",
    "strategies.invoke_strategies(r_cas, r_mas, r_fas, only_new=True)"
   ]
  },
  {
   "cell_type": "markdown",
   "metadata": {},
   "source": [
    "## Field Strategy\n",
    "\n",
    "Gathers all fields of matching Class and filters using the following criteria:\n",
    "* By Type if a matching Type has been found\n",
    "* By weighted sub-criteria such as:\n",
    "  * Access Flags\n",
    "  * Size\n",
    "  * Number of reads & Number of writes\n",
    "* By Index if the list of Fields has not changed dramatically"
   ]
  },
  {
   "cell_type": "code",
   "execution_count": 16,
   "metadata": {
    "scrolled": true
   },
   "outputs": [],
   "source": [
    "def field_strategy(r_cas, r_mas, r_fas):\n",
    "    field_s = fields_strategy.FieldStrategy(*s_args)\n",
    "    \n",
    "    print(\"Resolving Types of Fields\")\n",
    "    strategies.invoke_strategies(tuple(field_s.get_types_to_match()))\n",
    "    print()\n",
    "    \n",
    "    candidates_fs = field_s.try_resolve_fs()\n",
    "    \n",
    "    accumulator.add_candidates(candidates_fs=candidates_fs)\n",
    "    \n",
    "strategies.add_strategy(field_strategy, FLAG_FIELD)\n",
    "strategies.invoke_strategies(r_cas, r_mas, r_fas, only_new=True)"
   ]
  },
  {
   "cell_type": "markdown",
   "metadata": {},
   "source": [
    "# Results\n",
    "Display summary and matching pairs.\n",
    "\n",
    "Output to compatible MethodDec input to update from auto-updated values."
   ]
  },
  {
   "cell_type": "code",
   "execution_count": 17,
   "metadata": {
    "scrolled": false
   },
   "outputs": [
    {
     "name": "stdout",
     "output_type": "stream",
     "text": [
      "5 / 5 Classes were matched\n",
      "4 / 4 Methods were matched\n",
      "0 / 0 Fields were matched\n",
      "\n",
      "Matching Classes:\n",
      "• QE5 -> eG5\n",
      "• V0h -> eah\n",
      "• vre -> fze\n",
      "• com.snap.mushroom.MainActivity -> com.snap.mushroom.MainActivity\n",
      "• FOb -> qUb\n",
      "\n",
      "Matching Methods: \n",
      "• QE5#a(QE5, PE5) -> eG5#a(eG5, dG5)\n",
      "• V0h#j0(IMd) -> eah#j0(KTd)\n",
      "• FOb#<init>(java.lang.String, boolean, java.lang.String, java.lang.String, java.lang.String, java.lang.Long, Xt5, long, boolean, java.lang.Long, long) -> qUb#<init>(java.lang.String, boolean, java.lang.String, java.lang.String, java.lang.String, java.lang.Long, jv5, long, boolean, java.lang.Long, long)\n",
      "• vre#g(pX4) -> fze#g(iY4)\n"
     ]
    }
   ],
   "source": [
    "print(len(accumulator.matching_cs), \"/\", len(r_cas), \"Classes were matched\")\n",
    "print(len(accumulator.matching_ms), \"/\", len(m_decs), \"Methods were matched\")\n",
    "print(len(accumulator.matching_fs), \"/\", len(f_decs), \"Fields were matched\")\n",
    "\n",
    "print()\n",
    "print(\"Matching Classes:\")\n",
    "for c1, c2 in accumulator.matching_cs.items():\n",
    "    print(\"•\", pretty_format_class(c1), \"->\", pretty_format_class(c2))\n",
    "\n",
    "print()\n",
    "print(\"Matching Methods: \")\n",
    "for m, ma in accumulator.matching_ms.items():\n",
    "    print(\"•\", pretty_format_ma(m), \"->\", pretty_format_ma(ma))"
   ]
  },
  {
   "cell_type": "code",
   "execution_count": 18,
   "metadata": {
    "scrolled": false
   },
   "outputs": [
    {
     "name": "stdout",
     "output_type": "stream",
     "text": [
      "m_decs = (\n",
      "\tMethodDec('eG5', 'a', 'eG5', 'dG5'),\n",
      "\tMethodDec('eah', 'j0', 'KTd'),\n",
      "\tMethodDec('fze', 'g', 'iY4'),\n",
      "\tMethodDec('qUb', '<init>', 'java.lang.String', 'boolean', 'java.lang.String', 'java.lang.String', 'java.lang.String', 'java.lang.Long', 'jv5', 'long', 'boolean', 'java.lang.Long', 'long')\n",
      ")\n"
     ]
    }
   ],
   "source": [
    "generate.generate_decs(r_mas, accumulator.matching_ms)"
   ]
  },
  {
   "cell_type": "markdown",
   "metadata": {},
   "source": [
    "# Interoptability with Akrolyb\n",
    "\n",
    "The following Code snippet allows to \"extract\" MethodDecs from MemberDeclarations in Akrolyb. This automates the process of providing GraphGuard the hooks it should find. Just paste the output (tuple of MethodDecs) in the corresponding section in this Notebook."
   ]
  },
  {
   "cell_type": "markdown",
   "metadata": {},
   "source": [
    "## Extract\n",
    "\n",
    "It is not in Python, since it would require a Kotlin Parser and evaluating imports, variables etc. Just executing the Constructors in Kotlin, then getting the values is much easier than static analysis. \n",
    "\n",
    "The `main` function can (and should) be run statically (locally on the machine and not on your Android) to build the list of `MethodDec`s that GraphGuard is supposed to match in an updated build of the target application. Adjust the MemberDeclarations Class to the Class where you declared the `MemberDeclaration`s.\n",
    "\n",
    "Note: This code does obviously not know if you left out the parameters on purpose (a lot of parameter types, or multiple constructors...). Please modify the results for the Methods concerned by using the optional `skip_params=True` argument for `MethodDec`.\n",
    "\n",
    "```kotlin\n",
    "fun main() {\n",
    "    fun MemberDec.formatToGraphGuard() = buildString {\n",
    "        append(\"MethodDec('\")\n",
    "        append(classDec.className)\n",
    "        append(\"', '\")\n",
    "        append(if (this@formatToGraphGuard is MethodDec) methodName else \"<init>\")\n",
    "        append(\"'\")\n",
    "        for (param in params) {\n",
    "            append(\", '\")\n",
    "            if (param is String)\n",
    "                append(param)\n",
    "            else if (param is ClassDec)\n",
    "                append(param.className)\n",
    "            else if (param is Class<*>)\n",
    "                append(param.name)\n",
    "            else error(\"Illegal Type for param\")\n",
    "            append(\"'\")\n",
    "        }\n",
    "        append(\")\")\n",
    "    }\n",
    "    \n",
    "    println(\"m_decs = (\")\n",
    "    val strs = MemberDeclarations::class.java.declaredFields.mapNotNull {\n",
    "        it.isAccessible = true\n",
    "        val x = it.get(MemberDeclarations)\n",
    "        if (x !is MemberDec) return@mapNotNull null\n",
    "\n",
    "        x.formatToGraphGuard()\n",
    "    }.joinToString(separator = \",\\n\\t\", prefix = \"\\t\")\n",
    "    println(strs)\n",
    "    println(\")\")\n",
    "}\n",
    "```"
   ]
  }
 ],
 "metadata": {
  "kernelspec": {
   "display_name": "Python 3",
   "language": "python",
   "name": "python3"
  },
  "language_info": {
   "codemirror_mode": {
    "name": "ipython",
    "version": 3
   },
   "file_extension": ".py",
   "mimetype": "text/x-python",
   "name": "python",
   "nbconvert_exporter": "python",
   "pygments_lexer": "ipython3",
   "version": "3.8.3"
  }
 },
 "nbformat": 4,
 "nbformat_minor": 4
}
