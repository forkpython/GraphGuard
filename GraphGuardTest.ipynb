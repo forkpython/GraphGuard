{
 "cells": [
  {
   "cell_type": "code",
   "execution_count": null,
   "metadata": {},
   "outputs": [],
   "source": [
    "%matplotlib notebook"
   ]
  },
  {
   "cell_type": "code",
   "execution_count": null,
   "metadata": {},
   "outputs": [],
   "source": [
    "from androguard.misc import AnalyzeAPK\n",
    "from androguard.session import Save, Session, Load\n",
    "from androguard.core.bytecode import FormatClassToJava\n",
    "from androguard.core.analysis.analysis import StringAnalysis\n",
    "\n",
    "import networkx as nx\n",
    "import matplotlib.pyplot as plt\n",
    "\n",
    "from os import path\n",
    "from collections import defaultdict\n",
    "\n",
    "import re"
   ]
  },
  {
   "cell_type": "code",
   "execution_count": null,
   "metadata": {},
   "outputs": [],
   "source": [
    "AG_SESSION_FILE = \"./Androguard.ag\""
   ]
  },
  {
   "cell_type": "code",
   "execution_count": null,
   "metadata": {},
   "outputs": [],
   "source": [
    "def load_androguard(force_reload=False, write_session=True):\n",
    "    if (not force_reload) and path.exists(AG_SESSION_FILE):\n",
    "        print(\"Loading Existing Session\")\n",
    "        s = Load(AG_SESSION_FILE)\n",
    "    else:\n",
    "        print(\"Loading Session from Apk\")\n",
    "        s = Session()\n",
    "        a, d, dx = AnalyzeAPK(\n",
    "            \"../../Downloads/com.snapchat.android_10.85.5.74-2067_minAPI19(arm64-v8a)(nodpi)_apkmirror.com.apk\"\n",
    "            , s)\n",
    "        if write_session:\n",
    "            print(\"Saving Loaded Session to\", AG_SESSION_FILE)\n",
    "            Save(s, AG_SESSION_FILE)\n",
    "        return a, d, dx\n",
    "\n",
    "# Saving Session causes Kernel disconnection, Loading it causes a EOF Error\n",
    "a, d, dx = load_androguard(force_reload=True, write_session=False)"
   ]
  },
  {
   "cell_type": "code",
   "execution_count": null,
   "metadata": {},
   "outputs": [],
   "source": [
    "type_descriptors = {\n",
    "    \"void\": \"V\",\n",
    "    \"boolean\": \"Z\",\n",
    "    \"byte\": \"B\",\n",
    "    \"short\": \"S\",\n",
    "    \"char\": \"C\",\n",
    "    \"int\": \"I\",\n",
    "    \"long\": \"J\",\n",
    "    \"float\": \"F\",\n",
    "    \"double\": \"D\"\n",
    "}\n",
    "\n",
    "def get_as_type_descriptor(arg):\n",
    "    if arg.endswith(\"[]\"):\n",
    "        return \"[\" + get_as_type_descriptor(arg[:-2])\n",
    "    if arg in type_descriptors:\n",
    "        return type_descriptors[arg]\n",
    "    return FormatClassToJava(arg)"
   ]
  },
  {
   "cell_type": "code",
   "execution_count": null,
   "metadata": {},
   "outputs": [],
   "source": [
    "def strip_return(name):\n",
    "    # re_strip_return = re.compile(r\"\\((.*)\\)\")\n",
    "    # return re_strip_return.search(name).group(1)\n",
    "    return name[1:name.index(\")\")]"
   ]
  },
  {
   "cell_type": "code",
   "execution_count": null,
   "metadata": {},
   "outputs": [],
   "source": [
    "tests_1 = [\"java.lang.String\", \"java.lang.String[]\", \"void\", \"int[]\", \"char\", \"java.lang.Object[][]\"]\n",
    "for val in tests_1:\n",
    "    print(val, '-', get_as_type_descriptor(val))\n",
    "\n",
    "tests_2 = [\"(I)I\", \"(C)Z\", \"(Ljava/lang/CharSequence; I)I\"]\n",
    "for val in tests_2:\n",
    "    print(val, '-', strip_return(val))"
   ]
  },
  {
   "cell_type": "code",
   "execution_count": null,
   "metadata": {},
   "outputs": [],
   "source": [
    "class MethodDec:\n",
    "    def __init__(self, name, *param_types):\n",
    "        self.name = name\n",
    "        self.param_types = param_types\n",
    "    \n",
    "    def get_method_parameter_types(self):\n",
    "        li = []\n",
    "        return list(map(get_as_type_descriptor, self.param_types))"
   ]
  },
  {
   "cell_type": "code",
   "execution_count": null,
   "metadata": {},
   "outputs": [],
   "source": [
    "decs_to_find = {\n",
    "    \"rD5\": MethodDec(\"a\", \"rD5\", \"qD5\")\n",
    "}\n",
    "\n",
    "resolved_classes = [dx.get_class_analysis(get_as_type_descriptor(k)) for k, _ in decs_to_find.items()]"
   ]
  },
  {
   "cell_type": "code",
   "execution_count": null,
   "metadata": {},
   "outputs": [],
   "source": [
    "resolved_methods = []\n",
    "for (clazz_name, method_dec), class_analysis in zip(decs_to_find.items(), resolved_classes):\n",
    "    for method in class_analysis.get_methods():\n",
    "        if method_dec.name == method.name:\n",
    "            m_dec_types = \" \".join(method_dec.get_method_parameter_types())\n",
    "            if m_dec_types == strip_return(str(method.get_descriptor())):\n",
    "                print(\"Found Class and Method\", f\"{clazz_name}#{method_dec.name}({m_dec_types})\")\n",
    "                resolved_methods.append(method)"
   ]
  },
  {
   "cell_type": "code",
   "execution_count": null,
   "metadata": {},
   "outputs": [],
   "source": [
    "m_dict, c_dict = defaultdict(set), defaultdict(set)\n",
    "for s in dx.get_strings():\n",
    "    xrefs = s.get_xref_from()\n",
    "    # if len(xrefs) > 2202:\n",
    "    # continue\n",
    "    for x in xrefs:\n",
    "        c_ref, m_ref = x\n",
    "        for r_m in resolved_methods:\n",
    "            if m_ref == r_m:\n",
    "                # print(len(xrefs), s.value)\n",
    "                m_dict[r_m].add(s.value)\n",
    "            elif c_ref.name == r_m.class_name:\n",
    "                # TODO: Add String Finding for Classes\n",
    "                pass\n",
    "\n",
    "print(m_dict)"
   ]
  },
  {
   "cell_type": "code",
   "execution_count": null,
   "metadata": {},
   "outputs": [],
   "source": [
    "def flat_map(f, li): return (f(y) for x in li for y in x)\n",
    "\n",
    "# str_dic = {s: s.get_xref_from() for s in dx.strings}\n",
    "for s in dx.get_strings():\n",
    "    for k, v in m_dict.items():\n",
    "        if s.value in v:\n",
    "            for x in s.get_xref_from():\n",
    "                m_ref = x[1]\n",
    "                print(\"Possible Candidate: \", r_m)"
   ]
  }
 ],
 "metadata": {
  "kernelspec": {
   "display_name": "Python 3",
   "language": "python",
   "name": "python3"
  },
  "language_info": {
   "codemirror_mode": {
    "name": "ipython",
    "version": 3
   },
   "file_extension": ".py",
   "mimetype": "text/x-python",
   "name": "python",
   "nbconvert_exporter": "python",
   "pygments_lexer": "ipython3",
   "version": "3.8.3"
  }
 },
 "nbformat": 4,
 "nbformat_minor": 4
}
