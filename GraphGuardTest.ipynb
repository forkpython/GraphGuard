{
 "cells": [
  {
   "cell_type": "markdown",
   "metadata": {},
   "source": [
    "# GraphGuard\n",
    "\n",
    "***Locate and find Classes in Apks with updated Obfuscation Mapping***\n",
    "\n",
    "\n",
    "Processing Steps:\n",
    "* Usage of Strings\n",
    "* Method Signatures (Modifiers, Parameter Types, Number of Parameters...)\n",
    "* Other methods in same class\n",
    "* Analyze Method Calls (from and to) via Call Graph (Distance, Offsets, Graph Analysis)"
   ]
  },
  {
   "cell_type": "code",
   "execution_count": null,
   "metadata": {},
   "outputs": [],
   "source": [
    "%matplotlib notebook\n",
    "\n",
    "\n",
    "from IPython.core.display import display, HTML\n",
    "display(HTML(\"<style>div.output_area pre {white-space: pre;}</style>\"))"
   ]
  },
  {
   "cell_type": "code",
   "execution_count": null,
   "metadata": {},
   "outputs": [],
   "source": [
    "import unittest\n",
    "from collections import defaultdict, Counter\n",
    "from os import path\n",
    "\n",
    "from androguard.core.analysis.analysis import MethodAnalysis, ClassAnalysis, FieldAnalysis\n",
    "from androguard.core.bytecode import FormatClassToJava\n",
    "from androguard.misc import AnalyzeAPK\n",
    "from androguard.session import Save, Session, Load\n",
    "\n",
    "from formats import *\n",
    "from decs import *\n",
    "\n",
    "from matching import matcher, strings, structures, methods\n",
    "\n",
    "from start import process_files"
   ]
  },
  {
   "cell_type": "markdown",
   "metadata": {},
   "source": [
    "# Loading Androguard\n",
    "\n",
    "The following code loads the files and starts Androguard\n",
    "\n",
    "It should support multiprocessing, however the Pipe communication seems to break when transmitting the processed Androguard Objects. I suspect the Object is simply too big for Pickle to serialize or another component in the transmitting chain."
   ]
  },
  {
   "cell_type": "code",
   "execution_count": null,
   "metadata": {},
   "outputs": [],
   "source": [
    "AG_SESSION_FILE = \"./Androguard.ag\"\n",
    "MULTIPROCESS_FILES = False  # Currently not working due to serialization issues\n",
    "\n",
    "\n",
    "# Matching Rules\n",
    "strings.MAX_USAGE_COUNT_STR = 20\n",
    "strings.UNIQUE_STRINGS_MAJORITY = 2 / 3\n",
    "\n",
    "methods.MIN_MATCH_POINTS = 2\n",
    "\n",
    "\n",
    "\n",
    "# APK Files to load\n",
    "file_paths = (\n",
    "    \"../../../Downloads/com.snapchat.android_10.85.5.74-2067_minAPI19(arm64-v8a)(nodpi)_apkmirror.com.apk\",\n",
    "    \"../../../Downloads/com.snapchat.android_10.86.5.61-2069_minAPI19(arm64-v8a)(nodpi)_apkmirror.com.apk\"\n",
    ")"
   ]
  },
  {
   "cell_type": "code",
   "execution_count": null,
   "metadata": {},
   "outputs": [],
   "source": [
    "(a, d, dx), (a2, d2, dx2) = process_files(file_paths, MULTIPROCESS_FILES)"
   ]
  },
  {
   "cell_type": "markdown",
   "metadata": {},
   "source": [
    "### Utility Functions to work with Androguard and Java Representations\n",
    "\n",
    "* Converting Parameter types to TypeDescriptor Format\n",
    "* Strip return type (not used for hooking)\n",
    "* Method Representation Format\n",
    "\n",
    "Loaded with Unit Tests"
   ]
  },
  {
   "cell_type": "markdown",
   "metadata": {},
   "source": [
    "# Method Declarations\n",
    "\n",
    "Lightweight Method Declaration for internal representation of a Method / Hook.\n",
    "\n",
    "Not keeping Androguard Objects in memory to avoid high memory usage."
   ]
  },
  {
   "cell_type": "markdown",
   "metadata": {},
   "source": [
    "### List of Methods\n",
    "\n",
    "Defining the list of methods to find (obviously requires full class names)"
   ]
  },
  {
   "cell_type": "code",
   "execution_count": null,
   "metadata": {},
   "outputs": [],
   "source": [
    "decs_to_find = (\n",
    "    MethodDec(\"rD5\", \"a\", \"rD5\", \"qD5\"),\n",
    "    MethodDec(\"MSg\", \"j0\", \"SGd\"),\n",
    "    MethodDec(\"x45\", \"h\"),\n",
    "    MethodDec(\"GIb\", \"<init>\", skip_params=True)\n",
    ")"
   ]
  },
  {
   "cell_type": "markdown",
   "metadata": {},
   "source": [
    "# Processing\n",
    "\n",
    "## Strings as Characteristics\n",
    "\n",
    "Extracting Strings used either in the given methods directly or in the classes the methods define"
   ]
  },
  {
   "cell_type": "code",
   "execution_count": null,
   "metadata": {},
   "outputs": [],
   "source": [
    "resolved_classes = resolve_classes(dx, decs_to_find)\n",
    "resolved_methods = resolve_methods(decs_to_find, resolved_classes)\n",
    "decs_ma = dict(zip(decs_to_find, resolved_methods))\n",
    "\n",
    "print(\"Resolved all Classes and Methods\")\n",
    "if False:\n",
    "    print(\"\", *map(pretty_format_ma,resolved_methods), sep=\"\\n* \")"
   ]
  },
  {
   "cell_type": "markdown",
   "metadata": {},
   "source": [
    "### Utility functions for working with dx.get_strings()\n",
    "\n",
    "Filters Strings and xrefs to Strings. Only allow strings with (#xrefs < MAX_USAGE_COUNT_STR) to be used as characteristic to locate classes"
   ]
  },
  {
   "cell_type": "markdown",
   "metadata": {},
   "source": [
    "Building Maps of MethodDec and ClassNames associated to lists containing strings used in them"
   ]
  },
  {
   "cell_type": "markdown",
   "metadata": {},
   "source": [
    "### Count occurrences of strings\n",
    "\n",
    "Converting list of strings to a Counter object for faster comparisons"
   ]
  },
  {
   "cell_type": "markdown",
   "metadata": {},
   "source": [
    "### Searching for Found Strings\n",
    "\n",
    "Tries to resolve Classes and methods with the strings previously found\n",
    "\n",
    "* Loading second Apk File\n",
    "* Find All Strings found previously, build Map of potential matches (ClassName/Method to Counter)\n",
    "* Filter Potential Matches by comparing both Counter Objects"
   ]
  },
  {
   "cell_type": "markdown",
   "metadata": {},
   "source": [
    "#### Try to resolve Method\n",
    "Try to resolve classes by only using information about Strings (exact Counter Match)"
   ]
  },
  {
   "cell_type": "code",
   "execution_count": null,
   "metadata": {},
   "outputs": [],
   "source": [
    "accumulator = matcher.Accumulator()\n",
    "\n",
    "args = (dx, dx2, resolved_classes, decs_ma)"
   ]
  },
  {
   "cell_type": "code",
   "execution_count": null,
   "metadata": {
    "scrolled": true
   },
   "outputs": [],
   "source": [
    "string_matcher = strings.StringMatcher(*args, accumulator.get_unmatched_ms(decs_to_find))\n",
    "candidates_cs, candidates_ms = string_matcher.compare_counters()\n",
    "\n",
    "accumulator.add_candidates(candidates_cs, candidates_ms)"
   ]
  },
  {
   "cell_type": "markdown",
   "metadata": {},
   "source": [
    "### Fallback by unique strings\n",
    "\n",
    "To resolve unresolved methods, get all unique strings (strings only used by this class) and try to find the matching class by only searching for the unique string."
   ]
  },
  {
   "cell_type": "code",
   "execution_count": null,
   "metadata": {},
   "outputs": [],
   "source": [
    "candidates_cs = string_matcher.compare_unique_strings(accumulator.get_unmatched_cs(decs_to_find))\n",
    "\n",
    "print()\n",
    "print(\"| Applying Filtered Candidates to Accumulator\")\n",
    "print()\n",
    "accumulator.add_candidates(candidates_cs)"
   ]
  },
  {
   "cell_type": "markdown",
   "metadata": {},
   "source": [
    "### Using Class Information\n",
    "\n",
    "Gathers the following information and tries to find the correct classes by finding a similar \"Profile\"\n",
    "* Modifiers for Methods and Fields\n",
    "* \"static\" Field and return types of Methods\n",
    "* #Fields and #Methods"
   ]
  },
  {
   "cell_type": "code",
   "execution_count": null,
   "metadata": {},
   "outputs": [],
   "source": [
    "structure_matcher = structures.StructureMatcher(*args, accumulator.get_unmatched_ms(decs_to_find))\n",
    "candidates_cs = structure_matcher.get_exact_structure_matches(accumulator.get_unmatched_cs(decs_to_find))\n",
    "\n",
    "print(\"| Applying Candidates to Accumulator\")\n",
    "print()\n",
    "accumulator.add_candidates(candidates_cs)"
   ]
  },
  {
   "cell_type": "markdown",
   "metadata": {},
   "source": [
    "### Fallback if Class was found\n",
    "\n",
    "In case the class was found, but the method could not be resolved, check each method of the class for the following criteria:\n",
    "\n",
    "* Matching #xrefs_to\n",
    "* Matching #xrefs_from\n",
    "* Matching Code length\n",
    "\n",
    "All of these checks are currently strict/exact"
   ]
  },
  {
   "cell_type": "code",
   "execution_count": null,
   "metadata": {},
   "outputs": [],
   "source": [
    "import importlib\n",
    "importlib.reload(methods)\n",
    "\n",
    "method_matcher = methods.MethodMatcher(*args, accumulator.get_unmatched_ms(decs_to_find))\n",
    "\n",
    "candidates_ms = method_matcher.try_resolve_ms(accumulator.get_unmatched_cs(decs_to_find), accumulator.matching_cs, True)\n",
    "accumulator.add_candidates(candidates_ms=candidates_ms)\n",
    "\n",
    "\n",
    "candidates_ms = method_matcher.try_resolve_ms(accumulator.get_unmatched_cs(decs_to_find), accumulator.matching_cs, False)\n",
    "accumulator.add_candidates(candidates_ms=candidates_ms)"
   ]
  }
 ],
 "metadata": {
  "kernelspec": {
   "display_name": "Python 3",
   "language": "python",
   "name": "python3"
  },
  "language_info": {
   "codemirror_mode": {
    "name": "ipython",
    "version": 3
   },
   "file_extension": ".py",
   "mimetype": "text/x-python",
   "name": "python",
   "nbconvert_exporter": "python",
   "pygments_lexer": "ipython3",
   "version": "3.8.3"
  }
 },
 "nbformat": 4,
 "nbformat_minor": 4
}
