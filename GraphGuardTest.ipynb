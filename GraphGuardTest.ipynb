{
 "cells": [
  {
   "cell_type": "markdown",
   "metadata": {},
   "source": [
    "# GraphGuard\n",
    "\n",
    "***Locate and find Classes in Apks with updated Obfuscation Mapping***\n",
    "\n",
    "\n",
    "Processing Steps:\n",
    "* Usage of Strings\n",
    "* Method Signatures (Modifiers, Parameter Types, Number of Parameters...)\n",
    "* Other methods in same class\n",
    "* Analyze Method Calls (from and to) via Call Graph (Distance, Offsets, Graph Analysis)"
   ]
  },
  {
   "cell_type": "code",
   "execution_count": null,
   "metadata": {},
   "outputs": [],
   "source": [
    "%matplotlib notebook"
   ]
  },
  {
   "cell_type": "code",
   "execution_count": null,
   "metadata": {},
   "outputs": [],
   "source": [
    "import unittest\n",
    "from collections import defaultdict, Counter\n",
    "from os import path\n",
    "\n",
    "from androguard.core.analysis.analysis import MethodAnalysis\n",
    "from androguard.core.bytecode import FormatClassToJava\n",
    "from androguard.misc import AnalyzeAPK\n",
    "from androguard.session import Save, Session, Load"
   ]
  },
  {
   "cell_type": "markdown",
   "metadata": {},
   "source": [
    "# Loading Androguard\n",
    "\n",
    "The following code loads the files and starts Androguard\n",
    "\n",
    "It should support multiprocessing, however the Pipe communication seems to break when transmitting the processed Androguard Objects. I suspect the Object is simply too big for Pickle to serialize or another component in the transmitting chain."
   ]
  },
  {
   "cell_type": "code",
   "execution_count": null,
   "metadata": {},
   "outputs": [],
   "source": [
    "AG_SESSION_FILE = \"./Androguard.ag\"\n",
    "MAX_USAGE_COUNT_STR = 20\n",
    "MULTIPROCESS_FILES = True\n",
    "\n",
    "file_paths = (\n",
    "    \"../../../Downloads/com.snapchat.android_10.85.5.74-2067_minAPI19(arm64-v8a)(nodpi)_apkmirror.com.apk\",\n",
    "    \"../../../Downloads/com.snapchat.android_10.86.5.61-2069_minAPI19(arm64-v8a)(nodpi)_apkmirror.com.apk\"\n",
    ")"
   ]
  },
  {
   "cell_type": "code",
   "execution_count": null,
   "metadata": {},
   "outputs": [],
   "source": [
    "def load_androguard(file_path, force_reload=False, write_session=True):\n",
    "    # Writing and Loading sessions currently cause a Kernel Disconnect or an EOF Error\n",
    "    if (not force_reload) and path.exists(AG_SESSION_FILE):\n",
    "        print(\"Loading Existing Session\")\n",
    "        s = Load(AG_SESSION_FILE)\n",
    "    else:\n",
    "        print(\"Loading Session from Apk\")\n",
    "        s = Session()\n",
    "        a, d, dx = AnalyzeAPK(file_path, s)\n",
    "        if write_session:\n",
    "            print(\"Saving Loaded Session to\", AG_SESSION_FILE)\n",
    "            Save(s, AG_SESSION_FILE)\n",
    "    return a, d, dx"
   ]
  },
  {
   "cell_type": "code",
   "execution_count": null,
   "metadata": {},
   "outputs": [],
   "source": [
    "# Multiprocessing not working, probably same issue regarding serialization than when trying to write/load \n",
    "# androguard sessions\n",
    "\"\"\"\n",
    "def multiprocess_files(file_paths):\n",
    "    parent_conn, child_conn = multiprocessing.Pipe(False)\n",
    "\n",
    "\n",
    "    def post_result(file_path, conn):\n",
    "        value = load_androguard(file_path, True, False)\n",
    "        conn.send((file_path, value))\n",
    "\n",
    "    ps =  [multiprocessing.Process(target=post_result, args=(f, child_conn)) for f in file_paths]\n",
    "\n",
    "    def apply_map(f, i):\n",
    "        for x in i:\n",
    "            f(x)\n",
    "    \n",
    "    assert len(file_paths) == 2\n",
    "    print(\"Starting multiprocessing Files\")\n",
    "    \n",
    "    # Serialization with Pickle requires higher recursion limit\n",
    "    import sys\n",
    "    previous_recursion = sys.getrecursionlimit()\n",
    "    sys.setrecursionlimit(50000)\n",
    "    \n",
    "    \n",
    "    apply_map(multiprocessing.Process.start, ps)\n",
    "\n",
    "    values = (q.get(), q.get())\n",
    "    r = tuple(map(lambda x: x[1], sorted(values, key=lambda x: file_paths.index(x[0]))))\n",
    "    \n",
    "    \n",
    "    apply_map(multiprocessing.Process.join, ps)\n",
    "    \n",
    "    print(\"Finished all processes\")\n",
    "    sys.setrecursionlimit(previous_recursion)\n",
    "    return r\n",
    "\n",
    "if MULTIPROCESS_FILES:\n",
    "    (a, d, dx), (a2, d2, dx2) = multiprocess_files(file_paths)\n",
    "else:\n",
    "    (a, d, dx), (a2, d2, dx2) = tuple(map(lambda x: load_androguard(x, True, False), file_paths))\n",
    "\"\"\"\n",
    "a, d, dx = load_androguard(file_paths[0], True, False)"
   ]
  },
  {
   "cell_type": "markdown",
   "metadata": {},
   "source": [
    "### Utility Functions to work with Androguard and Java Representations\n",
    "\n",
    "* Converting Parameter types to TypeDescriptor Format\n",
    "* Strip return type (not used for hooking)\n",
    "* Method Representation Format\n",
    "\n",
    "Loaded with Unit Tests"
   ]
  },
  {
   "cell_type": "code",
   "execution_count": null,
   "metadata": {},
   "outputs": [],
   "source": [
    "# https://source.android.com/devices/tech/dalvik/dex-format#typedescriptor\n",
    "type_descriptors = {\n",
    "    \"void\": \"V\",\n",
    "    \"boolean\": \"Z\",\n",
    "    \"byte\": \"B\",\n",
    "    \"short\": \"S\",\n",
    "    \"char\": \"C\",\n",
    "    \"int\": \"I\",\n",
    "    \"long\": \"J\",\n",
    "    \"float\": \"F\",\n",
    "    \"double\": \"D\"\n",
    "}\n",
    "\n",
    "type_ds_reversed = { v : k for k, v in type_descriptors.items() }\n",
    "\n",
    "def get_as_type_descriptor(arg):\n",
    "    if arg.endswith(\"[]\"):\n",
    "        return \"[\" + get_as_type_descriptor(arg[:-2])\n",
    "    if arg in type_descriptors:\n",
    "        return type_descriptors[arg]\n",
    "    return FormatClassToJava(arg)"
   ]
  },
  {
   "cell_type": "code",
   "execution_count": null,
   "metadata": {},
   "outputs": [],
   "source": [
    "def strip_return_descriptor(descriptor):\n",
    "    return descriptor[1:descriptor.index(\")\")]"
   ]
  },
  {
   "cell_type": "code",
   "execution_count": null,
   "metadata": {},
   "outputs": [],
   "source": [
    "def pretty_format_class(class_name):\n",
    "    if class_name.startswith(\"[\"):\n",
    "        return pretty_format_class(class_name[1:]) + \"[]\"\n",
    "    if class_name in type_ds_reversed:\n",
    "        return type_ds_reversed[class_name]\n",
    "    return class_name[1:-1].replace(\"/\", \".\")\n",
    "\n",
    "\n",
    "def get_pretty_params(descriptor):\n",
    "    return map(pretty_format_class, strip_return_descriptor(descriptor).split(\" \"))"
   ]
  },
  {
   "cell_type": "code",
   "execution_count": null,
   "metadata": {},
   "outputs": [],
   "source": [
    "def get_method_repr(class_name, method_name, param_types):\n",
    "    return f\"{class_name}#{method_name}({param_types})\"\n",
    "\n",
    "def pretty_format_ma(ma):\n",
    "    return get_method_repr(pretty_format_class(ma.class_name), ma.name, \", \".join(get_pretty_params(str(ma.descriptor))))"
   ]
  },
  {
   "cell_type": "code",
   "execution_count": null,
   "metadata": {},
   "outputs": [],
   "source": [
    "tests_1 = (\n",
    "    (\"java.lang.String\", \"Ljava/lang/String;\"),\n",
    "    (\"java.lang.String[]\", \"[Ljava/lang/String;\"),\n",
    "    (\"void\", \"V\"),\n",
    "    (\"int[]\", \"[I\"),\n",
    "    (\"char\", \"C\"), \n",
    "    (\"java.lang.Object[][]\", \"[[Ljava/lang/Object;\"),\n",
    "    (\"ABC\", \"LABC;\")\n",
    ")\n",
    "\n",
    "tests_2 = (\n",
    "    (\"(I)I\", \"I\"), \n",
    "    (\"(C)Z\", \"C\"),\n",
    "    (\"(Ljava/lang/CharSequence; I)I\", \"Ljava/lang/CharSequence; I\")\n",
    ")\n",
    "\n",
    "class TestFunction(unittest.TestCase):\n",
    "    def test_type_descriptor(self):\n",
    "        for test, val in tests_1:\n",
    "            self.assertEqual(get_as_type_descriptor(test), val)\n",
    "    \n",
    "    def test_strip_return(self):\n",
    "        for test, val in tests_2:\n",
    "            self.assertEqual(strip_return_descriptor(test), val)\n",
    "    \n",
    "    def test_pretty_class(self):\n",
    "        for val, test in tests_1:\n",
    "            self.assertEqual(pretty_format_class(test), val)\n",
    "\n",
    "\n",
    "unittest.main(argv=[''], verbosity=2, exit=False)"
   ]
  },
  {
   "cell_type": "markdown",
   "metadata": {},
   "source": [
    "# Method Declarations\n",
    "\n",
    "Lightweight Method Declaration for internal representation of a Method / Hook.\n",
    "\n",
    "Not keeping Androguard Objects in memory to avoid high memory usage."
   ]
  },
  {
   "cell_type": "code",
   "execution_count": null,
   "metadata": {},
   "outputs": [],
   "source": [
    "class MethodDec:\n",
    "    def __init__(self, class_name, name, *param_types):\n",
    "        self.name = name\n",
    "        self.class_name = class_name\n",
    "        self.param_types = param_types\n",
    "    \n",
    "    \n",
    "    def get_formatted_param_types(self):\n",
    "        return list(map(get_as_type_descriptor, self.param_types))\n",
    "    \n",
    "    \n",
    "    def param_types_repr(self):\n",
    "        return \" \".join(self.get_formatted_param_types())\n",
    "    \n",
    "    \n",
    "    def get_formatted_class(self):\n",
    "        return FormatClassToJava(self.class_name)\n",
    "    \n",
    "    \n",
    "    def pretty_format(self):\n",
    "        return get_method_repr(self.class_name, self.name, \", \".join(self.param_types))\n",
    "    \n",
    "\n",
    "    def __repr__(self):\n",
    "        return f'MethodDec({self.pretty_format()})'\n",
    "    \n",
    "    \n",
    "    def equals_ma(self, ma):\n",
    "        return self.name == ma.name and \\\n",
    "            self.param_types_repr() == strip_return_descriptor(str(ma.get_descriptor()))\n",
    "        "
   ]
  },
  {
   "cell_type": "markdown",
   "metadata": {},
   "source": [
    "### List of Methods\n",
    "\n",
    "Defining the list of methods to find (obviously requires full class names)"
   ]
  },
  {
   "cell_type": "code",
   "execution_count": null,
   "metadata": {},
   "outputs": [],
   "source": [
    "decs_to_find = [\n",
    "    MethodDec(\"rD5\", \"a\", \"rD5\", \"qD5\"),\n",
    "    MethodDec(\"MSg\", \"j0\", \"SGd\")\n",
    "]"
   ]
  },
  {
   "cell_type": "markdown",
   "metadata": {},
   "source": [
    "# Processing\n",
    "\n",
    "## Strings as Characteristics\n",
    "\n",
    "Extracting Strings used either in the given methods directly or in the classes the methods define"
   ]
  },
  {
   "cell_type": "code",
   "execution_count": null,
   "metadata": {},
   "outputs": [],
   "source": [
    "# Key:   TypeDescriptor Representation of class\n",
    "# Value: Androguard Class Analysis Object\n",
    "\n",
    "resolved_classes = { i: dx.get_class_analysis(i)\n",
    "                    for i in map(lambda x: FormatClassToJava(x.class_name), decs_to_find) }"
   ]
  },
  {
   "cell_type": "code",
   "execution_count": null,
   "metadata": {},
   "outputs": [],
   "source": [
    "resolved_methods = []\n",
    "\n",
    "# Loop through resolved classes\n",
    "for method_dec, (class_name, class_analysis) in zip(decs_to_find, resolved_classes.items()):\n",
    "    # Loop through all methods in the resolved class\n",
    "    for method in class_analysis.get_methods():\n",
    "        if not method_dec.equals_ma(method):\n",
    "            continue\n",
    "        \n",
    "        # Matching Method Declaration found\n",
    "        print(\"Found Class and Method\", method_dec)\n",
    "        resolved_methods.append(method)\n",
    "        break\n",
    "    else:\n",
    "        raise Exception(f\"One method was not resolved: {method_dec}\")"
   ]
  },
  {
   "cell_type": "markdown",
   "metadata": {},
   "source": [
    "### Utility functions for working with dx.get_strings()\n",
    "\n",
    "Filters Strings and xrefs to Strings. Only allow strings with (#xrefs < MAX_USAGE_COUNT_STR) to be used as characteristic to locate classes"
   ]
  },
  {
   "cell_type": "code",
   "execution_count": null,
   "metadata": {},
   "outputs": [],
   "source": [
    "def get_filtered_strs(dx):\n",
    "    \"\"\"\n",
    "    Loops through all strings that are referenced less than MAX_USAGE_COUNT_STR times and hence can be \n",
    "    used as characteristic for finding methods or classes.\n",
    "    \"\"\"\n",
    "    return ((s, xrefs) \n",
    "            for s, xrefs in map(lambda s: (s, s.get_xref_from()), dx.get_strings()) \n",
    "            if len(xrefs) <= MAX_USAGE_COUNT_STR)\n",
    "\n",
    "\n",
    "def get_xrefs_if_usable(s):\n",
    "    \"\"\"\n",
    "    Loops through xrefs of a string only if the number of references does not exceed MAX_USAGE_COUNT_STR.\n",
    "    \"\"\"\n",
    "    xrefs = s.get_xref_from()\n",
    "    if len(xrefs) > MAX_USAGE_COUNT_STR:\n",
    "        return\n",
    "    yield from xrefs"
   ]
  },
  {
   "cell_type": "markdown",
   "metadata": {},
   "source": [
    "Building Maps of MethodDec and ClassNames associated to lists containing strings used in them"
   ]
  },
  {
   "cell_type": "code",
   "execution_count": null,
   "metadata": {},
   "outputs": [],
   "source": [
    "m_strs, c_strs = defaultdict(list), defaultdict(list)\n",
    "\n",
    "for s, xrefs in get_filtered_strs(dx):\n",
    "    for x in xrefs:\n",
    "        c_ref, m_ref = x\n",
    "\n",
    "        if c_ref.name not in resolved_classes:\n",
    "            # XReference not in a Class or method that we need to find\n",
    "            continue\n",
    "\n",
    "        # Loop through each method and find methods in this class\n",
    "        for r_m, m_dec in zip(resolved_methods, decs_to_find):\n",
    "            if r_m.class_name != c_ref.name:\n",
    "                continue\n",
    "\n",
    "            # String is used in a class we need to find\n",
    "            c_strs[c_ref.name].append(s.value)\n",
    "            \n",
    "            if m_ref == r_m:\n",
    "                # String is used in this method\n",
    "                m_strs[m_dec].append(s.value)"
   ]
  },
  {
   "cell_type": "markdown",
   "metadata": {},
   "source": [
    "### Count occurrences of strings\n",
    "\n",
    "Converting list of strings to a Counter object for faster comparisons"
   ]
  },
  {
   "cell_type": "code",
   "execution_count": null,
   "metadata": {},
   "outputs": [],
   "source": [
    "m_strs = {k: Counter(v) for k, v in m_strs.items()}\n",
    "c_strs = {k: Counter(v) for k, v in c_strs.items()}\n",
    "\n",
    "# If no strings have been found in method, still insert a Counter of 0\n",
    "for m in decs_to_find:\n",
    "    if m not in m_strs:\n",
    "        m_strs[m] = Counter()"
   ]
  },
  {
   "cell_type": "code",
   "execution_count": null,
   "metadata": {},
   "outputs": [],
   "source": [
    "def flat_map(f, li):\n",
    "    \"\"\"\n",
    "    Maps values with function f recursively on all Iterables (except Strings)\n",
    "    Flattened by using recursive Subgenerator Delegation\n",
    "    \"\"\"\n",
    "    from collections.abc import Iterable\n",
    "    for i in li:\n",
    "        # str will cause a recursion depth error (Iterator of str returns Iterable str)\n",
    "        if isinstance(i, Iterable) and not isinstance(i, str):\n",
    "            yield from flat_map(f, i)\n",
    "        else:\n",
    "            yield f(i)"
   ]
  },
  {
   "cell_type": "markdown",
   "metadata": {},
   "source": [
    "### Searching for Found Strings\n",
    "\n",
    "Tries to resolve Classes and methods with the strings previously found\n",
    "\n",
    "* Loading second Apk File\n",
    "* Find All Strings found previously, build Map of potential matches (ClassName/Method to Counter)\n",
    "* Filter Potential Matches by comparing both Counter Objects"
   ]
  },
  {
   "cell_type": "code",
   "execution_count": null,
   "metadata": {},
   "outputs": [],
   "source": [
    "# TODO: Figure out how to clear memory for a, d, dx in IPython and Jupyter\n",
    "\n",
    "\n",
    "a2, d2, dx2 = load_androguard(file_paths[1], True, False)"
   ]
  },
  {
   "cell_type": "code",
   "execution_count": null,
   "metadata": {},
   "outputs": [],
   "source": [
    "m_strs2, c_strs2 = defaultdict(list), defaultdict(list)\n",
    "\n",
    "for s in dx2.get_strings():\n",
    "    for m_dec, m_set in m_strs.items():\n",
    "        \n",
    "        c_name = m_dec.class_name\n",
    "        try:\n",
    "            c_set = c_strs[FormatClassToJava(c_name)] \n",
    "        except KeyError:\n",
    "            c_set = set()\n",
    "        \n",
    "        if s.value in m_set:\n",
    "            for x in get_xrefs_if_usable(s):\n",
    "                m_ref = x[1]\n",
    "                m_strs2[m_ref].append(s.value)\n",
    "        if s.value in c_set:\n",
    "            for x in get_xrefs_if_usable(s):\n",
    "                c_ref = x[0]\n",
    "                c_strs2[c_ref.name].append(s.value)"
   ]
  },
  {
   "cell_type": "code",
   "execution_count": null,
   "metadata": {},
   "outputs": [],
   "source": [
    "m_strs2 = {k: Counter(v) for k, v in m_strs2.items()}\n",
    "c_strs2 = {k: Counter(v) for k, v in c_strs2.items()}"
   ]
  },
  {
   "cell_type": "code",
   "execution_count": null,
   "metadata": {
    "scrolled": true
   },
   "outputs": [],
   "source": [
    "counters = set()\n",
    "matching_cs, matching_ms = {}, {}\n",
    "\n",
    "for k2, c2 in c_strs2.items():\n",
    "    for k1, c1 in c_strs.items():\n",
    "        if c1 == c2:\n",
    "            if str(c1) in counters:\n",
    "                print(\"Found Matching Counter again...\")\n",
    "            counters.add(str(c1))\n",
    "            matching_cs[k1] = k2\n",
    "            print(\"Class Pair:\", k1, k2, sep=\"\\n\\t* \")\n",
    "\n",
    "counters.clear()\n",
    "for k2, c2 in m_strs2.items():\n",
    "    for k1, c1 in m_strs.items():\n",
    "        if c1 == c2:\n",
    "            if str(c1) in counters:\n",
    "                print(\"Found Matching Counter again...\")\n",
    "            counters.add(str(c1))\n",
    "            matching_ms[k1] = k2\n",
    "            print(\"Method Pair:\",\n",
    "                  k1.pretty_format(),\n",
    "                  pretty_format_ma(k2),\n",
    "                  sep=\"\\n\\t+ \")"
   ]
  },
  {
   "cell_type": "markdown",
   "metadata": {},
   "source": [
    "### Fallback if Class was found\n",
    "\n",
    "In case the class was found, but the method could not be resolved, check each method of the class for the following criteria:\n",
    "\n",
    "* Matching #xrefs_to\n",
    "* Matching #xrefs_from\n",
    "* Matching Code length\n",
    "\n",
    "All of these checks are currently strict/exact"
   ]
  },
  {
   "cell_type": "code",
   "execution_count": null,
   "metadata": {},
   "outputs": [],
   "source": [
    "c_not_found = set(map(lambda x: x.class_name, decs_to_find)) - set(map(pretty_format_class, matching_cs.keys()))\n",
    "m_not_found = decs_to_find - matching_ms.keys()\n",
    "\n",
    "for m in m_not_found:\n",
    "    if m.class_name in c_not_found:\n",
    "        print(\"Could not find class of method\", m.pretty_format())\n",
    "        continue\n",
    "    \n",
    "    class_name1 = FormatClassToJava(m.class_name)\n",
    "    class_name2 = matching_cs[class_name]\n",
    "    \n",
    "    candidates = []\n",
    "    for ma1 in dx.get_class_analysis(class_name1).get_methods():\n",
    "        if not m.equals_ma(ma1):\n",
    "            continue\n",
    "\n",
    "        already_found = False\n",
    "\n",
    "        for ma2 in dx2.get_class_analysis(class_name2).get_methods():\n",
    "            c_functions = [\n",
    "                MethodAnalysis.get_length, \n",
    "                lambda x: len(x.get_xref_from()), \n",
    "                lambda x: len(x.get_xref_to())\n",
    "            ]\n",
    "            \n",
    "            if all((c_fun(ma1) == c_fun(ma2)) for c_fun in c_functions):\n",
    "                if already_found:\n",
    "                    print(\"Another Match detected...\")\n",
    "                already_found = True\n",
    "                print(\"Found exact matching criteria: \", pretty_format_ma(ma1), pretty_format_ma(ma2), sep=\"\\n\\t* \")\n",
    "            \n",
    "        if not already_found:\n",
    "            print(\"Could not find any match for function\", pretty_format_ma(ma1))\n",
    "        \n",
    "        break"
   ]
  },
  {
   "cell_type": "code",
   "execution_count": null,
   "metadata": {},
   "outputs": [],
   "source": []
  }
 ],
 "metadata": {
  "kernelspec": {
   "display_name": "Python 3",
   "language": "python",
   "name": "python3"
  },
  "language_info": {
   "codemirror_mode": {
    "name": "ipython",
    "version": 3
   },
   "file_extension": ".py",
   "mimetype": "text/x-python",
   "name": "python",
   "nbconvert_exporter": "python",
   "pygments_lexer": "ipython3",
   "version": "3.8.3"
  }
 },
 "nbformat": 4,
 "nbformat_minor": 4
}
