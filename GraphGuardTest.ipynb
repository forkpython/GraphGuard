{
 "cells": [
  {
   "cell_type": "markdown",
   "metadata": {},
   "source": [
    "# GraphGuard\n",
    "\n",
    "***Locate and find Classes in Apks with updated Obfuscation Mapping***\n",
    "\n",
    "\n",
    "Processing Steps:\n",
    "* Usage of Strings\n",
    "* Method Signatures (Modifiers, Parameter Types, Number of Parameters...)\n",
    "* Other methods in same class\n",
    "* Analyze Method Calls (from and to) via Call Graph (Distance, Offsets, Graph Analysis)"
   ]
  },
  {
   "cell_type": "code",
   "execution_count": 1,
   "metadata": {},
   "outputs": [],
   "source": [
    "%matplotlib notebook"
   ]
  },
  {
   "cell_type": "code",
   "execution_count": 2,
   "metadata": {},
   "outputs": [],
   "source": [
    "import unittest\n",
    "from collections import defaultdict, Counter\n",
    "from os import path\n",
    "\n",
    "from androguard.core.analysis.analysis import MethodAnalysis, ClassAnalysis, FieldAnalysis\n",
    "from androguard.core.bytecode import FormatClassToJava\n",
    "from androguard.misc import AnalyzeAPK\n",
    "from androguard.session import Save, Session, Load"
   ]
  },
  {
   "cell_type": "markdown",
   "metadata": {},
   "source": [
    "# Loading Androguard\n",
    "\n",
    "The following code loads the files and starts Androguard\n",
    "\n",
    "It should support multiprocessing, however the Pipe communication seems to break when transmitting the processed Androguard Objects. I suspect the Object is simply too big for Pickle to serialize or another component in the transmitting chain."
   ]
  },
  {
   "cell_type": "code",
   "execution_count": 3,
   "metadata": {},
   "outputs": [],
   "source": [
    "AG_SESSION_FILE = \"./Androguard.ag\"\n",
    "MAX_USAGE_COUNT_STR = 20\n",
    "UNIQUE_STRINGS_MAJORITY = 2 / 3\n",
    "MULTIPROCESS_FILES = True\n",
    "\n",
    "file_paths = (\n",
    "    \"../../../Downloads/com.snapchat.android_10.85.5.74-2067_minAPI19(arm64-v8a)(nodpi)_apkmirror.com.apk\",\n",
    "    \"../../../Downloads/com.snapchat.android_10.86.5.61-2069_minAPI19(arm64-v8a)(nodpi)_apkmirror.com.apk\"\n",
    ")"
   ]
  },
  {
   "cell_type": "code",
   "execution_count": 4,
   "metadata": {},
   "outputs": [],
   "source": [
    "def load_androguard(file_path, force_reload=False, write_session=True):\n",
    "    # Writing and Loading sessions currently cause a Kernel Disconnect or an EOF Error\n",
    "    if (not force_reload) and path.exists(AG_SESSION_FILE):\n",
    "        print(\"Loading Existing Session\")\n",
    "        s = Load(AG_SESSION_FILE)\n",
    "    else:\n",
    "        print(\"Loading Session from Apk\")\n",
    "        s = Session()\n",
    "        a, d, dx = AnalyzeAPK(file_path, s)\n",
    "        if write_session:\n",
    "            print(\"Saving Loaded Session to\", AG_SESSION_FILE)\n",
    "            Save(s, AG_SESSION_FILE)\n",
    "    return a, d, dx"
   ]
  },
  {
   "cell_type": "code",
   "execution_count": 5,
   "metadata": {},
   "outputs": [
    {
     "name": "stdout",
     "output_type": "stream",
     "text": [
      "Loading Session from Apk\n"
     ]
    }
   ],
   "source": [
    "# Multiprocessing not working, probably same issue regarding serialization than when trying to write/load \n",
    "# androguard sessions\n",
    "\"\"\"\n",
    "def multiprocess_files(file_paths):\n",
    "    parent_conn, child_conn = multiprocessing.Pipe(False)\n",
    "\n",
    "\n",
    "    def post_result(file_path, conn):\n",
    "        value = load_androguard(file_path, True, False)\n",
    "        conn.send((file_path, value))\n",
    "\n",
    "    ps =  [multiprocessing.Process(target=post_result, args=(f, child_conn)) for f in file_paths]\n",
    "\n",
    "    def apply_map(f, i):\n",
    "        for x in i:\n",
    "            f(x)\n",
    "    \n",
    "    assert len(file_paths) == 2\n",
    "    print(\"Starting multiprocessing Files\")\n",
    "    \n",
    "    # Serialization with Pickle requires higher recursion limit\n",
    "    import sys\n",
    "    previous_recursion = sys.getrecursionlimit()\n",
    "    sys.setrecursionlimit(50000)\n",
    "    \n",
    "    \n",
    "    apply_map(multiprocessing.Process.start, ps)\n",
    "\n",
    "    values = (q.get(), q.get())\n",
    "    r = tuple(map(lambda x: x[1], sorted(values, key=lambda x: file_paths.index(x[0]))))\n",
    "    \n",
    "    \n",
    "    apply_map(multiprocessing.Process.join, ps)\n",
    "    \n",
    "    print(\"Finished all processes\")\n",
    "    sys.setrecursionlimit(previous_recursion)\n",
    "    return r\n",
    "\n",
    "if MULTIPROCESS_FILES:\n",
    "    (a, d, dx), (a2, d2, dx2) = multiprocess_files(file_paths)\n",
    "else:\n",
    "    (a, d, dx), (a2, d2, dx2) = tuple(map(lambda x: load_androguard(x, True, False), file_paths))\n",
    "\"\"\"\n",
    "a, d, dx = load_androguard(file_paths[0], True, False)"
   ]
  },
  {
   "cell_type": "markdown",
   "metadata": {},
   "source": [
    "### Utility Functions to work with Androguard and Java Representations\n",
    "\n",
    "* Converting Parameter types to TypeDescriptor Format\n",
    "* Strip return type (not used for hooking)\n",
    "* Method Representation Format\n",
    "\n",
    "Loaded with Unit Tests"
   ]
  },
  {
   "cell_type": "code",
   "execution_count": 6,
   "metadata": {},
   "outputs": [],
   "source": [
    "# https://source.android.com/devices/tech/dalvik/dex-format#typedescriptor\n",
    "type_descriptors = {\n",
    "    \"void\": \"V\",\n",
    "    \"boolean\": \"Z\",\n",
    "    \"byte\": \"B\",\n",
    "    \"short\": \"S\",\n",
    "    \"char\": \"C\",\n",
    "    \"int\": \"I\",\n",
    "    \"long\": \"J\",\n",
    "    \"float\": \"F\",\n",
    "    \"double\": \"D\"\n",
    "}\n",
    "\n",
    "type_ds_reversed = { v : k for k, v in type_descriptors.items() }\n",
    "\n",
    "def get_as_type_descriptor(arg):\n",
    "    if arg.endswith(\"[]\"):\n",
    "        return \"[\" + get_as_type_descriptor(arg[:-2])\n",
    "    if arg in type_descriptors:\n",
    "        return type_descriptors[arg]\n",
    "    return FormatClassToJava(arg)"
   ]
  },
  {
   "cell_type": "code",
   "execution_count": 7,
   "metadata": {},
   "outputs": [],
   "source": [
    "def strip_return_descriptor(descriptor):\n",
    "    return descriptor[1:descriptor.index(\")\")]"
   ]
  },
  {
   "cell_type": "code",
   "execution_count": 8,
   "metadata": {},
   "outputs": [],
   "source": [
    "def pretty_format_class(class_name):\n",
    "    if class_name.startswith(\"[\"):\n",
    "        return pretty_format_class(class_name[1:]) + \"[]\"\n",
    "    if class_name in type_ds_reversed:\n",
    "        return type_ds_reversed[class_name]\n",
    "    return class_name[1:-1].replace(\"/\", \".\")\n",
    "\n",
    "\n",
    "def get_pretty_params(descriptor):\n",
    "    return map(pretty_format_class, strip_return_descriptor(descriptor).split(\" \"))"
   ]
  },
  {
   "cell_type": "code",
   "execution_count": 9,
   "metadata": {},
   "outputs": [],
   "source": [
    "def get_method_repr(class_name, method_name, param_types):\n",
    "    return f\"{class_name}#{method_name}({param_types})\"\n",
    "\n",
    "def pretty_format_ma(ma):\n",
    "    return get_method_repr(pretty_format_class(ma.class_name), ma.name, \", \".join(get_pretty_params(str(ma.descriptor))))"
   ]
  },
  {
   "cell_type": "code",
   "execution_count": 10,
   "metadata": {},
   "outputs": [
    {
     "name": "stderr",
     "output_type": "stream",
     "text": [
      "test_pretty_class (__main__.TestFunction) ... ok\n",
      "test_strip_return (__main__.TestFunction) ... ok\n",
      "test_type_descriptor (__main__.TestFunction) ... ok\n",
      "\n",
      "----------------------------------------------------------------------\n",
      "Ran 3 tests in 0.005s\n",
      "\n",
      "OK\n"
     ]
    },
    {
     "data": {
      "text/plain": [
       "<unittest.main.TestProgram at 0x7f3e8ed15b50>"
      ]
     },
     "execution_count": 10,
     "metadata": {},
     "output_type": "execute_result"
    }
   ],
   "source": [
    "tests_1 = (\n",
    "    (\"java.lang.String\", \"Ljava/lang/String;\"),\n",
    "    (\"java.lang.String[]\", \"[Ljava/lang/String;\"),\n",
    "    (\"void\", \"V\"),\n",
    "    (\"int[]\", \"[I\"),\n",
    "    (\"char\", \"C\"), \n",
    "    (\"java.lang.Object[][]\", \"[[Ljava/lang/Object;\"),\n",
    "    (\"ABC\", \"LABC;\")\n",
    ")\n",
    "\n",
    "tests_2 = (\n",
    "    (\"(I)I\", \"I\"), \n",
    "    (\"(C)Z\", \"C\"),\n",
    "    (\"(Ljava/lang/CharSequence; I)I\", \"Ljava/lang/CharSequence; I\")\n",
    ")\n",
    "\n",
    "class TestFunction(unittest.TestCase):\n",
    "    def test_type_descriptor(self):\n",
    "        for test, val in tests_1:\n",
    "            self.assertEqual(get_as_type_descriptor(test), val)\n",
    "    \n",
    "    def test_strip_return(self):\n",
    "        for test, val in tests_2:\n",
    "            self.assertEqual(strip_return_descriptor(test), val)\n",
    "    \n",
    "    def test_pretty_class(self):\n",
    "        for val, test in tests_1:\n",
    "            self.assertEqual(pretty_format_class(test), val)\n",
    "\n",
    "\n",
    "unittest.main(argv=[''], verbosity=2, exit=False)"
   ]
  },
  {
   "cell_type": "markdown",
   "metadata": {},
   "source": [
    "# Method Declarations\n",
    "\n",
    "Lightweight Method Declaration for internal representation of a Method / Hook.\n",
    "\n",
    "Not keeping Androguard Objects in memory to avoid high memory usage."
   ]
  },
  {
   "cell_type": "code",
   "execution_count": 11,
   "metadata": {},
   "outputs": [],
   "source": [
    "class MethodDec:\n",
    "    def __init__(self, class_name, name, *param_types, skip_params=False):\n",
    "        self.name = name\n",
    "        self.class_name = class_name\n",
    "        self.param_types = param_types\n",
    "        self.skip_params = skip_params\n",
    "    \n",
    "    \n",
    "    def get_formatted_param_types(self):\n",
    "        return list(map(get_as_type_descriptor, self.param_types))\n",
    "    \n",
    "    \n",
    "    def param_types_repr(self):\n",
    "        if self.skip_params:\n",
    "            return \"skip.params\"\n",
    "        return \" \".join(self.get_formatted_param_types())\n",
    "    \n",
    "    \n",
    "    def get_formatted_class(self):\n",
    "        return FormatClassToJava(self.class_name)\n",
    "    \n",
    "    \n",
    "    def pretty_format(self):\n",
    "        return get_method_repr(self.class_name, self.name, \n",
    "                               (\"skip.params\" if self.skip_params else \", \".join(self.param_types)))\n",
    "    \n",
    "\n",
    "    def __repr__(self):\n",
    "        return f'MethodDec({self.pretty_format()})'\n",
    "    \n",
    "    \n",
    "    def equals_ma(self, ma):\n",
    "        return self.name == ma.name and (self.skip_params or \\\n",
    "            self.param_types_repr() == strip_return_descriptor(str(ma.get_descriptor())))\n",
    "    \n",
    "    def find_ma(self, dx):\n",
    "        for ma in dx.get_class_analysis(FormatClassToJava(self.class_name)).get_methods():\n",
    "            if self.equals_ma(ma):\n",
    "                return ma\n",
    "        raise Exception(f\"Unresolved MethodDec: {self.pretty_format()}\")"
   ]
  },
  {
   "cell_type": "markdown",
   "metadata": {},
   "source": [
    "### List of Methods\n",
    "\n",
    "Defining the list of methods to find (obviously requires full class names)"
   ]
  },
  {
   "cell_type": "code",
   "execution_count": 12,
   "metadata": {},
   "outputs": [],
   "source": [
    "decs_to_find = [\n",
    "    MethodDec(\"rD5\", \"a\", \"rD5\", \"qD5\"),\n",
    "    MethodDec(\"MSg\", \"j0\", \"SGd\"),\n",
    "    MethodDec(\"x45\", \"h\"),\n",
    "    MethodDec(\"GIb\", \"<init>\", skip_params=True)\n",
    "]"
   ]
  },
  {
   "cell_type": "markdown",
   "metadata": {},
   "source": [
    "# Processing\n",
    "\n",
    "## Strings as Characteristics\n",
    "\n",
    "Extracting Strings used either in the given methods directly or in the classes the methods define"
   ]
  },
  {
   "cell_type": "code",
   "execution_count": 13,
   "metadata": {},
   "outputs": [],
   "source": [
    "# Key:   TypeDescriptor Representation of class\n",
    "# Value: Androguard Class Analysis Object\n",
    "\n",
    "resolved_classes = { i: dx.get_class_analysis(i)\n",
    "                    for i in map(lambda x: FormatClassToJava(x.class_name), decs_to_find) }"
   ]
  },
  {
   "cell_type": "code",
   "execution_count": 14,
   "metadata": {
    "scrolled": true
   },
   "outputs": [
    {
     "name": "stdout",
     "output_type": "stream",
     "text": [
      "Resolved all Classes and Methods\n",
      "* rD5#a(rD5, qD5)\n",
      "* MSg#j0(SGd)\n",
      "* x45#h()\n",
      "* GIb#<init>(java.lang.String, boolean, java.lang.String, java.lang.String, java.lang.String, java.lang.Long, Ds5, long, boolean, java.lang.Long, long)\n"
     ]
    }
   ],
   "source": [
    "resolved_methods = [m.find_ma(dx) for m in decs_to_find]\n",
    "\n",
    "print(\"Resolved all Classes and Methods\", *map(pretty_format_ma,resolved_methods), sep=\"\\n* \")"
   ]
  },
  {
   "cell_type": "markdown",
   "metadata": {},
   "source": [
    "### Utility functions for working with dx.get_strings()\n",
    "\n",
    "Filters Strings and xrefs to Strings. Only allow strings with (#xrefs < MAX_USAGE_COUNT_STR) to be used as characteristic to locate classes"
   ]
  },
  {
   "cell_type": "code",
   "execution_count": 15,
   "metadata": {},
   "outputs": [],
   "source": [
    "def get_filtered_strs(dx):\n",
    "    \"\"\"\n",
    "    Loops through all strings that are referenced less than MAX_USAGE_COUNT_STR times and hence can be \n",
    "    used as characteristic for finding methods or classes.\n",
    "    \"\"\"\n",
    "    return ((s, xrefs) \n",
    "            for s, xrefs in map(lambda s: (s, s.get_xref_from()), dx.get_strings()) \n",
    "            if len(xrefs) <= MAX_USAGE_COUNT_STR)\n",
    "\n",
    "\n",
    "def get_xrefs_if_usable(s):\n",
    "    \"\"\"\n",
    "    Loops through xrefs of a string only if the number of references does not exceed MAX_USAGE_COUNT_STR.\n",
    "    \"\"\"\n",
    "    xrefs = s.get_xref_from()\n",
    "    if len(xrefs) > MAX_USAGE_COUNT_STR:\n",
    "        return\n",
    "    yield from xrefs"
   ]
  },
  {
   "cell_type": "markdown",
   "metadata": {},
   "source": [
    "Building Maps of MethodDec and ClassNames associated to lists containing strings used in them"
   ]
  },
  {
   "cell_type": "code",
   "execution_count": 16,
   "metadata": {},
   "outputs": [],
   "source": [
    "m_strs, c_strs = defaultdict(list), defaultdict(list)\n",
    "\n",
    "for s, xrefs in get_filtered_strs(dx):\n",
    "    for x in xrefs:\n",
    "        c_ref, m_ref = x\n",
    "\n",
    "        if c_ref.name not in resolved_classes:\n",
    "            # XReference not in a Class or method that we need to find\n",
    "            continue\n",
    "\n",
    "        # Loop through each method and find methods in this class\n",
    "        for r_m, m_dec in zip(resolved_methods, decs_to_find):\n",
    "            if r_m.class_name != c_ref.name:\n",
    "                continue\n",
    "\n",
    "            # String is used in a class we need to find\n",
    "            c_strs[c_ref.name].append(s.value)\n",
    "            \n",
    "            if m_ref == r_m:\n",
    "                # String is used in this method\n",
    "                m_strs[m_dec].append(s.value)"
   ]
  },
  {
   "cell_type": "markdown",
   "metadata": {},
   "source": [
    "### Count occurrences of strings\n",
    "\n",
    "Converting list of strings to a Counter object for faster comparisons"
   ]
  },
  {
   "cell_type": "code",
   "execution_count": 17,
   "metadata": {},
   "outputs": [],
   "source": [
    "m_strs = {k: Counter(v) for k, v in m_strs.items()}\n",
    "c_strs = {k: Counter(v) for k, v in c_strs.items()}\n",
    "\n",
    "# If no strings have been found in method, still insert a Counter of 0\n",
    "for m in decs_to_find:\n",
    "    if m not in m_strs:\n",
    "        m_strs[m] = Counter()"
   ]
  },
  {
   "cell_type": "code",
   "execution_count": 18,
   "metadata": {},
   "outputs": [],
   "source": [
    "def flat_map(f, li):\n",
    "    \"\"\"\n",
    "    Maps values with function f recursively on all Iterables (except Strings)\n",
    "    Flattened by using recursive Subgenerator Delegation\n",
    "    \"\"\"\n",
    "    from collections.abc import Iterable\n",
    "    for i in li:\n",
    "        # str will cause a recursion depth error (Iterator of str returns Iterable str)\n",
    "        if isinstance(i, Iterable) and not isinstance(i, str):\n",
    "            yield from flat_map(f, i)\n",
    "        else:\n",
    "            yield f(i)"
   ]
  },
  {
   "cell_type": "markdown",
   "metadata": {},
   "source": [
    "### Searching for Found Strings\n",
    "\n",
    "Tries to resolve Classes and methods with the strings previously found\n",
    "\n",
    "* Loading second Apk File\n",
    "* Find All Strings found previously, build Map of potential matches (ClassName/Method to Counter)\n",
    "* Filter Potential Matches by comparing both Counter Objects"
   ]
  },
  {
   "cell_type": "code",
   "execution_count": 19,
   "metadata": {},
   "outputs": [
    {
     "name": "stdout",
     "output_type": "stream",
     "text": [
      "Loading Session from Apk\n"
     ]
    }
   ],
   "source": [
    "a2, d2, dx2 = load_androguard(file_paths[1], True, False)"
   ]
  },
  {
   "cell_type": "code",
   "execution_count": 20,
   "metadata": {},
   "outputs": [],
   "source": [
    "m_strs2, c_strs2 = defaultdict(list), defaultdict(list)\n",
    "\n",
    "for s in dx2.get_strings():\n",
    "    for m_dec, m_set in m_strs.items():\n",
    "        \n",
    "        c_name = m_dec.class_name\n",
    "        try:\n",
    "            c_set = c_strs[FormatClassToJava(c_name)]\n",
    "        except KeyError:\n",
    "            c_set = set()\n",
    "        \n",
    "        if s.value in m_set:\n",
    "            for x in get_xrefs_if_usable(s):\n",
    "                m_ref = x[1]\n",
    "                m_strs2[m_ref].append(s.value)\n",
    "        if s.value in c_set:\n",
    "            for x in get_xrefs_if_usable(s):\n",
    "                c_ref = x[0]\n",
    "                c_strs2[c_ref.name].append(s.value)"
   ]
  },
  {
   "cell_type": "code",
   "execution_count": 21,
   "metadata": {},
   "outputs": [],
   "source": [
    "m_strs2 = {k: Counter(v) for k, v in m_strs2.items()}\n",
    "c_strs2 = {k: Counter(v) for k, v in c_strs2.items()}"
   ]
  },
  {
   "cell_type": "markdown",
   "metadata": {},
   "source": [
    "#### Try to resolve Method\n",
    "Try to resolve classes by only using information about Strings (exact Counter Match)"
   ]
  },
  {
   "cell_type": "code",
   "execution_count": 22,
   "metadata": {},
   "outputs": [],
   "source": [
    "matching_cs, matching_ms = {}, {}\n",
    "candidates_cs, candidates_ms = defaultdict(set), defaultdict(set)"
   ]
  },
  {
   "cell_type": "code",
   "execution_count": 23,
   "metadata": {
    "scrolled": true
   },
   "outputs": [
    {
     "name": "stdout",
     "output_type": "stream",
     "text": [
      "+ Found Single match for class. Considering a match!\n",
      "\trD5 -> QE5\n",
      "+ Found Single match for class. Considering a match!\n",
      "\tMSg -> V0h\n",
      "+ Found Single match for method. Considering a match!\n",
      "\trD5#a(rD5, qD5) -> QE5#a(QE5, PE5)\n",
      "+ Found Single match for method. Considering a match!\n",
      "\tMSg#j0(SGd) -> V0h#j0(IMd)\n"
     ]
    }
   ],
   "source": [
    "# Accumulate all candidates with exact same Counter Object for methods and classes\n",
    "for k2, c2 in c_strs2.items():\n",
    "    for k1, c1 in c_strs.items():\n",
    "        if c1 == c2:\n",
    "            candidates_cs[k1].add(k2)\n",
    "\n",
    "for k2, c2 in m_strs2.items():\n",
    "    for k1, c1 in m_strs.items():\n",
    "        if c1 == c2:\n",
    "            candidates_ms[k1].add(k2)\n",
    "            \n",
    "            \n",
    "# Filter all candidate items for both classes and methods. Accepting single match as \"matching\"\n",
    "for k1, cs_li in candidates_cs.items():\n",
    "    cs_li = list(cs_li)\n",
    "    if len(cs_li) == 1:\n",
    "        print(\"+ Found Single match for class. Considering a match!\"\n",
    "              + f\"\\n\\t{pretty_format_class(k1)} -> {pretty_format_class(cs_li[0])}\")\n",
    "        matching_cs[k1] = cs_li[0]\n",
    "        continue\n",
    "        \n",
    "    print(f\"* Multiple Matches for class {pretty_format_class(k1)}\", *map(pretty_format_class, cs_li), sep=\"\\n\\t* \")\n",
    "\n",
    "for k1, ms_li in candidates_ms.items():\n",
    "    ms_li = list(ms_li)\n",
    "    if len(ms_li) == 1:\n",
    "        print(\"+ Found Single match for method. Considering a match!\"\n",
    "              + f\"\\n\\t{k1.pretty_format()} -> {pretty_format_ma(ms_li[0])}\")\n",
    "        matching_ms[k1] = ms_li[0]\n",
    "        continue\n",
    "        \n",
    "    print(f\"* Multiple Matches for method {k1.pretty_format()}\", *map(pretty_format_ma, ms_li), sep=\"\\n\\t* \")\n",
    "\n",
    "    \n",
    "    \n",
    "# Delete \"matching\" from candidates\n",
    "for mcs in matching_cs.keys():\n",
    "    del candidates_cs[mcs]\n",
    "for mms in matching_ms.keys():\n",
    "    del candidates_ms[mms]"
   ]
  },
  {
   "cell_type": "code",
   "execution_count": 24,
   "metadata": {},
   "outputs": [],
   "source": [
    "c_not_found = set(map(lambda x: x.class_name, decs_to_find)) - set(map(pretty_format_class, matching_cs.keys()))\n",
    "m_not_found = decs_to_find - matching_ms.keys()"
   ]
  },
  {
   "cell_type": "markdown",
   "metadata": {},
   "source": [
    "### Fallback by unique strings\n",
    "\n",
    "To resolve unresolved methods, get all unique strings (strings only used by this class) and try to find the matching class by only searching for the unique string."
   ]
  },
  {
   "cell_type": "code",
   "execution_count": 25,
   "metadata": {},
   "outputs": [],
   "source": [
    "def used_in_single_class(xrefs, cn):\n",
    "    # if string only used in one class, regardless of the number of references\n",
    "    return all((xref[0].name == cn for xref in xrefs))\n",
    "\n",
    "\n",
    "unique_strs = defaultdict(set)\n",
    "for s, xrefs in get_filtered_strs(dx):\n",
    "    cn = list(xrefs)[0][0].name\n",
    "    if used_in_single_class(xrefs, cn):\n",
    "        pf = pretty_format_class(cn)\n",
    "        if pf in c_not_found:\n",
    "            unique_strs[pf].add(s.value)\n",
    "\n",
    "\n",
    "matching_us = defaultdict(set)\n",
    "strs = set().union(*unique_strs.values())\n",
    "for s, xrefs in get_filtered_strs(dx2):\n",
    "    if s.value in strs:\n",
    "        cn = list(xrefs)[0][0].name\n",
    "        if used_in_single_class(xrefs, cn):\n",
    "            matching_us[pretty_format_class(cn)].add(s.value)\n",
    "        else:\n",
    "            print(f\"~ Unique String not used in single class anymore. Change! ({s.value})\")\n",
    "\n",
    "\n",
    "tmp_candidates_cs = defaultdict(list)\n",
    "for c1, strset1 in unique_strs.items():\n",
    "    for s1 in strset1:\n",
    "        for c2, strset2 in matching_us.items():\n",
    "            for s2 in strset2:\n",
    "                if s1 == s2:\n",
    "                    tmp_candidates_cs[str(c1)].append(str(c2))\n",
    "\n",
    "tmp_candidates_cs = { k: Counter(v) for (k, v) in tmp_candidates_cs.items() }\n",
    "for c, counter in tmp_candidates_cs.items():\n",
    "    if len(counter) == 1:\n",
    "        c_name, count = tuple(*counter.items())\n",
    "        print(\"+ Found single class candidate via Unique Strings\"\n",
    "             + f\"\\n\\t{c} -> {c_name}\")\n",
    "        matching_cs[FormatClassToJava(c)] = FormatClassToJava(c_name)\n",
    "        continue\n",
    "    \n",
    "    \n",
    "    total = sum(counter.values())\n",
    "    print(f\"* Found multiple classes for all unique strings. ({len(counter)} candidates)\")\n",
    "    for c2, count in counter.items():\n",
    "        if count / total >= UNIQUE_STRINGS_MAJORITY:\n",
    "            print(f\"+ Found majority for unique string. Considering a match! ({(count/total):.2f}% majority)\"\n",
    "                  + f\"\\n\\t{c} -> {c2}\")\n",
    "            matching_cs[FormatClassToJava(c)] = FormatClassToJava(c2)\n",
    "            break\n",
    "\n",
    "for c, c2 in matching_cs.items():\n",
    "    if c in tmp_candidates_cs:\n",
    "        del tmp_candidates_cs[c]\n",
    "    if c in candidates_cs:\n",
    "        del candidates_cs[c]"
   ]
  },
  {
   "cell_type": "markdown",
   "metadata": {},
   "source": [
    "### Using Class Information\n",
    "\n",
    "Gathers the following information and tries to find the correct classes by finding a similar \"Profile\"\n",
    "* Modifiers for Methods and Fields\n",
    "* \"static\" Field and return types of Methods\n",
    "* #Fields and #Methods"
   ]
  },
  {
   "cell_type": "code",
   "execution_count": 26,
   "metadata": {},
   "outputs": [],
   "source": [
    "def get_usable(class_name):\n",
    "    if class_name.startswith(\"[\"):\n",
    "        return \"[\" + get_usable(class_name[1:])\n",
    "    \n",
    "    if class_name.startswith(\"Ljava/\") or class_name.startswith(\"Landroid/\") or class_name in type_descriptors.values():\n",
    "        return class_name\n",
    "    return \"obfuscated.class\"\n",
    "\n",
    "\n",
    "def get_field_counter(ca):\n",
    "    li = []\n",
    "    for f in map(FieldAnalysis.get_field, ca.get_fields()):\n",
    "        if ca.name != f.get_class_name():\n",
    "            continue\n",
    "        \n",
    "        li.append(get_usable(str(f.get_descriptor())))\n",
    "    return Counter(li)\n",
    "\n",
    "def get_usable_description(ma):\n",
    "    stripped, r = str(ma.descriptor[1:]).split(\")\")\n",
    "    return \"(\" + (\" \".join(map(get_usable, stripped.split(\" \"))) if stripped else \"\") + \")\" + get_usable(r)\n",
    "\n",
    "def get_method_set(ca):\n",
    "    return { get_usable_description(m) for m in ca.get_methods() }"
   ]
  },
  {
   "cell_type": "code",
   "execution_count": 27,
   "metadata": {},
   "outputs": [
    {
     "name": "stdout",
     "output_type": "stream",
     "text": [
      "+ Found Matching Class (by matching critera)\n",
      "\tGIb -> LFOb;\n",
      "+ Found Single match for class. Considering a match!\n",
      "\tGIb -> FOb\n",
      "defaultdict(<class 'set'>, {}) defaultdict(<class 'set'>, {})\n"
     ]
    }
   ],
   "source": [
    "criteria = [\n",
    "    ClassAnalysis.get_nb_methods,\n",
    "    lambda ca: len(list(filter(lambda x: x.get_field().get_class_name() == ca.name, ca.get_fields()))),\n",
    "    lambda ca: str(get_field_counter(ca)),\n",
    "    get_method_set\n",
    "]\n",
    "\n",
    "tmp_candidates = defaultdict(set)\n",
    "for c in c_not_found:\n",
    "    if c.startswith(\"com.\") and dx2.get_class_analysis(FormatClassToJava(c)) is not None:\n",
    "        c_name = FormatClassToJava(c)\n",
    "        matching_cs[c_name] = c_name\n",
    "        print(\"+ Found Matching Class (by similar name). Accepting immediate match!\"\n",
    "              + f\"\\n\\t{c_name} -> {c_name}\")\n",
    "        continue\n",
    "        \n",
    "    ca = dx.get_class_analysis(FormatClassToJava(c))\n",
    "    for ca2 in dx2.get_classes():\n",
    "        for i, cr in enumerate(criteria):\n",
    "            if cr(ca) != cr(ca2):\n",
    "                break\n",
    "        else:\n",
    "            tmp_candidates[ca.name].add(ca2.name)\n",
    "            print(\"+ Found Matching Class (by matching critera)\"\n",
    "                  + f\"\\n\\t{c} -> {ca2.name}\")\n",
    "\n",
    "\n",
    "# Filter all candidate items for both classes and methods. Accepting single match as \"matching\"\n",
    "for k1, cs_li in tmp_candidates.items():\n",
    "    cs_li = list(cs_li)\n",
    "    if len(cs_li) == 1:\n",
    "        print(\"+ Found Single match for class. Considering a match!\"\n",
    "              + f\"\\n\\t{pretty_format_class(k1)} -> {pretty_format_class(cs_li[0])}\")\n",
    "        matching_cs[k1] = cs_li[0]\n",
    "        continue\n",
    "        \n",
    "    print(f\"* Multiple Matches for class {pretty_format_class(k1)}\", *map(pretty_format_class, cs_li), sep=\"\\n\\t* \")\n",
    "\n",
    "    \n",
    "# Delete \"matching\" from candidates\n",
    "for mcs in matching_cs:\n",
    "    if mcs in candidates_cs:\n",
    "        del candidates_cs[mcs]\n",
    "    if mcs in tmp_candidates:\n",
    "        del tmp_candidates[mcs]\n",
    "        \n",
    "# Use inner Join of previous candidates and current candidates to find a single match\n",
    "print(candidates_cs, tmp_candidates)"
   ]
  },
  {
   "cell_type": "code",
   "execution_count": 28,
   "metadata": {},
   "outputs": [],
   "source": [
    "c_not_found = set(map(lambda x: x.class_name, decs_to_find)) - set(map(pretty_format_class, matching_cs.keys()))"
   ]
  },
  {
   "cell_type": "markdown",
   "metadata": {},
   "source": [
    "### Fallback if Class was found\n",
    "\n",
    "In case the class was found, but the method could not be resolved, check each method of the class for the following criteria:\n",
    "\n",
    "* Matching #xrefs_to\n",
    "* Matching #xrefs_from\n",
    "* Matching Code length\n",
    "\n",
    "All of these checks are currently strict/exact"
   ]
  },
  {
   "cell_type": "code",
   "execution_count": 29,
   "metadata": {},
   "outputs": [],
   "source": [
    "# Compare Function\n",
    "cfs = [\n",
    "    (MethodAnalysis.get_access_flags_string, 4),\n",
    "    (get_usable_description, 10),\n",
    "    (MethodAnalysis.get_length, 1),\n",
    "    (lambda x: len(x.get_xref_to()), 1),\n",
    "    (lambda x: len(x.get_xref_from()), 1)\n",
    "]\n",
    "total_score = sum((score for _, score in cfs))"
   ]
  },
  {
   "cell_type": "code",
   "execution_count": 35,
   "metadata": {},
   "outputs": [
    {
     "name": "stdout",
     "output_type": "stream",
     "text": [
      "> Could not find class of method x45#h()\n",
      "Using non-exact Checks\n",
      "> Could not find class of method x45#h()\n",
      "1 / 4\n"
     ]
    }
   ],
   "source": [
    "MIN_MATCH_POINTS = 2\n",
    "\n",
    "def try_resolve_ms(exact):    \n",
    "    candidates_ms2 = defaultdict(set)\n",
    "\n",
    "    for m in m_not_found:\n",
    "        if m.class_name in c_not_found:\n",
    "            print(\"> Could not find class of method\", m.pretty_format())\n",
    "            continue\n",
    "\n",
    "        class_name1 = FormatClassToJava(m.class_name)\n",
    "        class_name2 = matching_cs[class_name1]\n",
    "\n",
    "        for ma1 in dx.get_class_analysis(class_name1).get_methods():\n",
    "            if not m.equals_ma(ma1):\n",
    "                continue\n",
    "\n",
    "            m_match_points = {}\n",
    "            for ma2 in dx2.get_class_analysis(class_name2).get_methods():\n",
    "                \n",
    "                if exact:\n",
    "                    if all((c_fun(ma1) == c_fun(ma2)) * score for c_fun, score in cfs):\n",
    "                        candidates_ms2[m].add(ma2)\n",
    "                else:\n",
    "                    x = sum(((c_fun(ma1) == c_fun(ma2)) * score for c_fun, score in cfs))\n",
    "                    if x >= MIN_MATCH_POINTS:\n",
    "                        m_match_points[ma2] = x\n",
    "\n",
    "            if not exact:\n",
    "                max_matches = max(map(lambda x: x[1], m_match_points.items()))\n",
    "                c = [s[0] for s in m_match_points.items() if s[1] == max_matches]\n",
    "                \n",
    "                if len(c) == 0:\n",
    "                    print(\"- Could not find any matching candidate for\", pretty_format_ma(ma1))\n",
    "                elif len(c) == 1:\n",
    "                    print(f\"+ Found single non-exact candidate for matching method. (Certainty of {(max_matches / total_score):.2f})\", pretty_format_ma(ma1), pretty_format_ma(c[0]), sep=\"\\n\\t* \")\n",
    "                    matching_ms[m] = c[0]\n",
    "                else:\n",
    "                    candidates_ms2[m] |= set(c)\n",
    "                    print(\"* Found multiple non-exact candidates for matching method \" + str(m) + \":\\n\\t*\", \"\\n\\t* \".join(map(pretty_format_ma, c)))\n",
    "            break\n",
    "\n",
    "    for m, ms_li in candidates_ms2.items():\n",
    "        ms_li = list(ms_li)\n",
    "        if len(ms_li) == 1:\n",
    "            print(\"+ Found single candidate for matching method. Considering it a match!\",\n",
    "                  f\"\\n\\t{m.pretty_format()} -> {ms_li[0]}\")\n",
    "\n",
    "            matching_ms[m] = ms_li[0]\n",
    "            continue\n",
    "\n",
    "        print(f\"* Multiple Matches for method {m.pretty_format()}\", *map(pretty_format_ma, ms_li), sep=\"\\n\\t* \")\n",
    "        \n",
    "        if m in candidates_ms:\n",
    "            combined = set(ms_li) & set(candidates_ms[m])\n",
    "            if len(combined) == 0:\n",
    "                print(\"- Inner join on possible candidates resulted in no method match! for\", m)\n",
    "                continue\n",
    "            if len(combined) == 1:\n",
    "                el = list(combined)[0]\n",
    "                print(\"+ Inner join concluded single matching candidate. Considering match!\"\n",
    "                      + f\"\\n\\t{m.pretty_format()} -> {pretty_format_ma(el)}\")\n",
    "                matching_ms[m] = el\n",
    "                continue\n",
    "            if len(combined) < len(candidates[ms]):\n",
    "                print(f\".. Could narrow down search by combining candidates ({len(candidates[ms])} -> {len(combined)})\")\n",
    "                candidates[ms] = combined\n",
    "            \n",
    "    for m, ma2 in matching_ms.items():\n",
    "        if m in candidates_ms:\n",
    "            del candidates_ms[m]\n",
    "        \n",
    "try_resolve_ms(exact=True)\n",
    "m_not_found = decs_to_find - matching_ms.keys()\n",
    "\n",
    "print(\"Using non-exact Checks\")\n",
    "\n",
    "try_resolve_ms(exact=False)\n",
    "m_not_found = decs_to_find - matching_ms.keys()\n",
    "\n",
    "print(len(m_not_found), \"/\", len(decs_to_find))"
   ]
  },
  {
   "cell_type": "code",
   "execution_count": 31,
   "metadata": {
    "scrolled": false
   },
   "outputs": [
    {
     "name": "stdout",
     "output_type": "stream",
     "text": [
      "1 / 4\n",
      "\n",
      "Classes that have not been found:\n",
      "* x45\n",
      "\n",
      "Resolved MethodDecs:\n",
      "* rD5#a(rD5, qD5) -> QE5#a(QE5, PE5)\n",
      "* MSg#j0(SGd) -> V0h#j0(IMd)\n",
      "* GIb#<init>(skip.params) -> FOb#<init>(java.lang.String, boolean, java.lang.String, java.lang.String, java.lang.String, java.lang.Long, Xt5, long, boolean, java.lang.Long, long)\n",
      "- x45#h()\n"
     ]
    }
   ],
   "source": [
    "m_not_found = decs_to_find - matching_ms.keys()\n",
    "print(len(m_not_found), \"/\", len(decs_to_find))\n",
    "\n",
    "print()\n",
    "print(\"Classes that have not been found:\", *c_not_found, sep=\"\\n* \")\n",
    "print()\n",
    "print(\"Resolved MethodDecs:\")\n",
    "for m, ma2 in matching_ms.items():\n",
    "    print(\"*\", m.pretty_format(), \"->\", pretty_format_ma(ma2))\n",
    "for m in m_not_found:\n",
    "    print(\"-\", m.pretty_format())"
   ]
  },
  {
   "cell_type": "code",
   "execution_count": 32,
   "metadata": {},
   "outputs": [
    {
     "data": {
      "text/html": [
       "<style>div.output_area pre {white-space: pre;}</style>"
      ],
      "text/plain": [
       "<IPython.core.display.HTML object>"
      ]
     },
     "metadata": {},
     "output_type": "display_data"
    }
   ],
   "source": [
    "from IPython.core.display import display, HTML\n",
    "display(HTML(\"<style>div.output_area pre {white-space: pre;}</style>\"))"
   ]
  }
 ],
 "metadata": {
  "kernelspec": {
   "display_name": "Python 3",
   "language": "python",
   "name": "python3"
  },
  "language_info": {
   "codemirror_mode": {
    "name": "ipython",
    "version": 3
   },
   "file_extension": ".py",
   "mimetype": "text/x-python",
   "name": "python",
   "nbconvert_exporter": "python",
   "pygments_lexer": "ipython3",
   "version": "3.8.3"
  }
 },
 "nbformat": 4,
 "nbformat_minor": 4
}
