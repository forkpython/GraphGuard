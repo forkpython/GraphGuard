{
 "cells": [
  {
   "cell_type": "code",
   "execution_count": null,
   "metadata": {},
   "outputs": [],
   "source": [
    "%matplotlib notebook"
   ]
  },
  {
   "cell_type": "code",
   "execution_count": null,
   "metadata": {},
   "outputs": [],
   "source": [
    "from androguard.misc import AnalyzeAPK\n",
    "from androguard.session import Save, Session, Load\n",
    "from androguard.core.bytecode import FormatClassToJava\n",
    "from androguard.core.analysis.analysis import StringAnalysis\n",
    "\n",
    "import networkx as nx\n",
    "import matplotlib.pyplot as plt\n",
    "\n",
    "import unittest\n",
    "\n",
    "from os import path\n",
    "from collections import defaultdict, Counter"
   ]
  },
  {
   "cell_type": "code",
   "execution_count": null,
   "metadata": {},
   "outputs": [],
   "source": [
    "AG_SESSION_FILE = \"./Androguard.ag\"\n",
    "MAX_USAGE_COUNT_STR = 20\n",
    "APK_FILE_PATH = \"../../../Downloads/com.snapchat.android_10.85.5.74-2067_minAPI19(arm64-v8a)(nodpi)_apkmirror.com.apk\""
   ]
  },
  {
   "cell_type": "code",
   "execution_count": null,
   "metadata": {},
   "outputs": [],
   "source": [
    "def load_androguard(force_reload=False, write_session=True):\n",
    "    if (not force_reload) and path.exists(AG_SESSION_FILE):\n",
    "        print(\"Loading Existing Session\")\n",
    "        s = Load(AG_SESSION_FILE)\n",
    "    else:\n",
    "        print(\"Loading Session from Apk\")\n",
    "        s = Session()\n",
    "        a, d, dx = AnalyzeAPK(APK_FILE_PATH, s)\n",
    "        if write_session:\n",
    "            print(\"Saving Loaded Session to\", AG_SESSION_FILE)\n",
    "            Save(s, AG_SESSION_FILE)\n",
    "        return a, d, dx\n",
    "\n",
    "# Saving Session causes Kernel disconnection, Loading it causes a EOF Error\n",
    "a, d, dx = load_androguard(force_reload=True, write_session=False)"
   ]
  },
  {
   "cell_type": "code",
   "execution_count": null,
   "metadata": {},
   "outputs": [],
   "source": [
    "# https://source.android.com/devices/tech/dalvik/dex-format#typedescriptor\n",
    "type_descriptors = {\n",
    "    \"void\": \"V\",\n",
    "    \"boolean\": \"Z\",\n",
    "    \"byte\": \"B\",\n",
    "    \"short\": \"S\",\n",
    "    \"char\": \"C\",\n",
    "    \"int\": \"I\",\n",
    "    \"long\": \"J\",\n",
    "    \"float\": \"F\",\n",
    "    \"double\": \"D\"\n",
    "}\n",
    "\n",
    "def get_as_type_descriptor(arg):\n",
    "    if arg.endswith(\"[]\"):\n",
    "        return \"[\" + get_as_type_descriptor(arg[:-2])\n",
    "    if arg in type_descriptors:\n",
    "        return type_descriptors[arg]\n",
    "    return FormatClassToJava(arg)"
   ]
  },
  {
   "cell_type": "code",
   "execution_count": null,
   "metadata": {},
   "outputs": [],
   "source": [
    "def strip_return(name):\n",
    "    return name[1:name.index(\")\")]"
   ]
  },
  {
   "cell_type": "code",
   "execution_count": null,
   "metadata": {},
   "outputs": [],
   "source": [
    "def get_method_repr(class_name, method_name, param_types):\n",
    "    return f\"{class_name}#{method_name}({param_types})\""
   ]
  },
  {
   "cell_type": "markdown",
   "metadata": {},
   "source": [
    "Unit Testing both functions to check if they will work correctly when working with Andrguard"
   ]
  },
  {
   "cell_type": "code",
   "execution_count": null,
   "metadata": {},
   "outputs": [],
   "source": [
    "tests_1 = (\n",
    "    (\"java.lang.String\", \"Ljava/lang/String;\"),\n",
    "    (\"java.lang.String[]\", \"[Ljava/lang/String;\"),\n",
    "    (\"void\", \"V\"),\n",
    "    (\"int[]\", \"[I\"),\n",
    "    (\"char\", \"C\"), \n",
    "    (\"java.lang.Object[][]\", \"[[Ljava/lang/Object;\")\n",
    ")\n",
    "\n",
    "tests_2 = (\n",
    "    (\"(I)I\", \"I\"), \n",
    "    (\"(C)Z\", \"C\"),\n",
    "    (\"(Ljava/lang/CharSequence; I)I\", \"Ljava/lang/CharSequence; I\")\n",
    ")\n",
    "\n",
    "class TestFunction(unittest.TestCase):\n",
    "    def test_add(self):\n",
    "        for test, val in tests_1:\n",
    "            self.assertEqual(get_as_type_descriptor(test), val)\n",
    "        for test, val in tests_2:\n",
    "            self.assertEqual(strip_return(test), val)\n",
    "\n",
    "\n",
    "unittest.main(argv=[''], verbosity=2, exit=False)"
   ]
  },
  {
   "cell_type": "code",
   "execution_count": null,
   "metadata": {},
   "outputs": [],
   "source": [
    "class MethodDec:\n",
    "    def __init__(self, name, *param_types):\n",
    "        self.name = name\n",
    "        self.param_types = param_types\n",
    "    \n",
    "    def get_method_parameter_types(self):\n",
    "        return list(map(get_as_type_descriptor, self.param_types))\n",
    "    \n",
    "    \n",
    "    def param_types_repr(self):\n",
    "        return \" \".join(method_dec.get_method_parameter_types())\n",
    "    \n",
    "    \n",
    "    def get_method_repr(self, class_name):\n",
    "        return get_method_repr(class_name, self.name, self.param_types_repr())"
   ]
  },
  {
   "cell_type": "code",
   "execution_count": null,
   "metadata": {},
   "outputs": [],
   "source": [
    "decs_to_find = {\n",
    "    \"rD5\": MethodDec(\"a\", \"rD5\", \"qD5\")\n",
    "}\n",
    "optimized = False"
   ]
  },
  {
   "cell_type": "code",
   "execution_count": null,
   "metadata": {},
   "outputs": [],
   "source": [
    "if not optimized:\n",
    "    # Map Keys to TypeDescriptor Representation\n",
    "    decs_to_find = { get_as_type_descriptor(k): v for k, v in decs_to_find.items() }\n",
    "    resolved_classes = [dx.get_class_analysis(k) for k in decs_to_find.keys()]\n",
    "    \n",
    "    optimized = True"
   ]
  },
  {
   "cell_type": "code",
   "execution_count": null,
   "metadata": {},
   "outputs": [],
   "source": [
    "resolved_methods = []\n",
    "# Loop through resolved classes\n",
    "for (class_name, method_dec), class_analysis in zip(decs_to_find.items(), resolved_classes):\n",
    "    # Loop through all methods in the resolved class\n",
    "    for method in class_analysis.get_methods():\n",
    "        \n",
    "        # Check Method Name\n",
    "        if method_dec.name != method.name:\n",
    "            continue\n",
    "        \n",
    "        # Check Parameter Types\n",
    "        m_dec_types = \" \".join(method_dec.get_method_parameter_types())\n",
    "        if m_dec_types != strip_return(str(method.get_descriptor())):\n",
    "            continue\n",
    "        \n",
    "        # Matching Method Declaration found\n",
    "        print(\"Found Class and Method\", method_dec.get_method_repr(class_name))\n",
    "        resolved_methods.append(method)"
   ]
  },
  {
   "cell_type": "code",
   "execution_count": null,
   "metadata": {},
   "outputs": [],
   "source": [
    "# Map target Class and target Methods with a set of strings found in it\n",
    "m_strs, c_strs = defaultdict(set), defaultdict(set)\n",
    "\n",
    "for s in dx.get_strings():\n",
    "    xrefs = s.get_xref_from()\n",
    "    \n",
    "    # Ignore string if it is used too often for its presence to be a valid and reliable characteristic\n",
    "    if len(xrefs) > MAX_USAGE_COUNT_STR:\n",
    "        continue\n",
    "    \n",
    "    for x in xrefs:\n",
    "        c_ref, m_ref = x\n",
    "        \n",
    "        if c_ref.name not in decs_to_find:\n",
    "            continue\n",
    "\n",
    "        for r_m in resolved_methods:\n",
    "            if m_ref == r_m:\n",
    "                # print(len(xrefs), s.value)\n",
    "                m_strs[r_m].add(s.value)\n",
    "            elif c_ref.name == r_m.class_name:\n",
    "                # Matching Class\n",
    "                c_strs[c_ref.name].add(s.value)\n",
    "            # Else: String unused in Class and Method"
   ]
  },
  {
   "cell_type": "code",
   "execution_count": null,
   "metadata": {},
   "outputs": [],
   "source": [
    "def flat_map(f, li):\n",
    "    \"\"\"\n",
    "    Maps values with function f recursively on all Iterables (except Strings)\n",
    "    Flattened by using Subgenerator Delegation\n",
    "    \"\"\"\n",
    "    from collections.abc import Iterable\n",
    "    for i in li:\n",
    "        # str will cause a recursion depth error (Iterator of str returns str)\n",
    "        if isinstance(i, Iterable) and not isinstance(i, str):\n",
    "            yield from flat_map(f, i)\n",
    "        else:\n",
    "            yield f(i)\n",
    "\n",
    "# def flat_map(f, li): return (f(y) for x in li for y in x)"
   ]
  },
  {
   "cell_type": "code",
   "execution_count": null,
   "metadata": {},
   "outputs": [],
   "source": [
    "for s in dx.get_strings():\n",
    "    for m_ref, m_set in m_strs.items():\n",
    "        c_name = m_ref.class_name\n",
    "        c_set = c_strs[c_name]\n",
    "        \n",
    "        if s.value in m_set:\n",
    "            for x in s.get_xref_from():\n",
    "                m_xref = x[1]\n",
    "                print(\"Possible MCandidate:\", get_method_repr(c_name, m_ref.name, strip_return(str(m_xref.descriptor))))\n",
    "        elif s.value in c_set:\n",
    "            for x in s.get_xref_from():\n",
    "                c_xref = x[0]\n",
    "                print(\"Possible CCandidate:\", c_name)"
   ]
  }
 ],
 "metadata": {
  "kernelspec": {
   "display_name": "Python 3",
   "language": "python",
   "name": "python3"
  },
  "language_info": {
   "codemirror_mode": {
    "name": "ipython",
    "version": 3
   },
   "file_extension": ".py",
   "mimetype": "text/x-python",
   "name": "python",
   "nbconvert_exporter": "python",
   "pygments_lexer": "ipython3",
   "version": "3.8.3"
  }
 },
 "nbformat": 4,
 "nbformat_minor": 4
}