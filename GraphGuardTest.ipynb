{
 "cells": [
  {
   "cell_type": "markdown",
   "metadata": {},
   "source": [
    "# GraphGuard\n",
    "\n",
    "***Locate and find Classes in Apks with updated Obfuscation Mapping***\n",
    "\n",
    "\n",
    "Processing Steps:\n",
    "* Usage of Strings\n",
    "* Method Signatures (Modifiers, Parameter Types, Number of Parameters...)\n",
    "* Other methods in same class\n",
    "* Analyze Method Calls (from and to) via Call Graph (Distance, Offsets, Graph Analysis)"
   ]
  },
  {
   "cell_type": "code",
   "execution_count": null,
   "metadata": {},
   "outputs": [],
   "source": [
    "%matplotlib notebook\n",
    "\n",
    "\n",
    "from IPython.core.display import display, HTML\n",
    "display(HTML(\"<style>div.output_area pre {white-space: pre;}</style>\"))"
   ]
  },
  {
   "cell_type": "code",
   "execution_count": null,
   "metadata": {},
   "outputs": [],
   "source": [
    "import unittest\n",
    "from collections import defaultdict, Counter\n",
    "from os import path\n",
    "\n",
    "from androguard.core.analysis.analysis import MethodAnalysis, ClassAnalysis, FieldAnalysis\n",
    "from androguard.core.bytecode import FormatClassToJava\n",
    "from androguard.misc import AnalyzeAPK\n",
    "from androguard.session import Save, Session, Load\n",
    "\n",
    "from formats import *\n",
    "from decs import *\n",
    "\n",
    "from matching import matcher, strings, structures\n",
    "\n",
    "from start import process_files"
   ]
  },
  {
   "cell_type": "markdown",
   "metadata": {},
   "source": [
    "# Loading Androguard\n",
    "\n",
    "The following code loads the files and starts Androguard\n",
    "\n",
    "It should support multiprocessing, however the Pipe communication seems to break when transmitting the processed Androguard Objects. I suspect the Object is simply too big for Pickle to serialize or another component in the transmitting chain."
   ]
  },
  {
   "cell_type": "code",
   "execution_count": null,
   "metadata": {},
   "outputs": [],
   "source": [
    "AG_SESSION_FILE = \"./Androguard.ag\"\n",
    "MULTIPROCESS_FILES = False  # Currently not working due to serialization issues\n",
    "\n",
    "\n",
    "# Matching Rules\n",
    "strings.MAX_USAGE_COUNT_STR = 20\n",
    "strings.UNIQUE_STRINGS_MAJORITY = 2 / 3\n",
    "\n",
    "\n",
    "\n",
    "# APK Files to load\n",
    "file_paths = (\n",
    "    \"../../../Downloads/com.snapchat.android_10.85.5.74-2067_minAPI19(arm64-v8a)(nodpi)_apkmirror.com.apk\",\n",
    "    \"../../../Downloads/com.snapchat.android_10.86.5.61-2069_minAPI19(arm64-v8a)(nodpi)_apkmirror.com.apk\"\n",
    ")"
   ]
  },
  {
   "cell_type": "code",
   "execution_count": null,
   "metadata": {},
   "outputs": [],
   "source": [
    "(a, d, dx), (a2, d2, dx2) = process_files(file_paths, MULTIPROCESS_FILES)"
   ]
  },
  {
   "cell_type": "markdown",
   "metadata": {},
   "source": [
    "### Utility Functions to work with Androguard and Java Representations\n",
    "\n",
    "* Converting Parameter types to TypeDescriptor Format\n",
    "* Strip return type (not used for hooking)\n",
    "* Method Representation Format\n",
    "\n",
    "Loaded with Unit Tests"
   ]
  },
  {
   "cell_type": "markdown",
   "metadata": {},
   "source": [
    "# Method Declarations\n",
    "\n",
    "Lightweight Method Declaration for internal representation of a Method / Hook.\n",
    "\n",
    "Not keeping Androguard Objects in memory to avoid high memory usage."
   ]
  },
  {
   "cell_type": "markdown",
   "metadata": {},
   "source": [
    "### List of Methods\n",
    "\n",
    "Defining the list of methods to find (obviously requires full class names)"
   ]
  },
  {
   "cell_type": "code",
   "execution_count": null,
   "metadata": {},
   "outputs": [],
   "source": [
    "decs_to_find = (\n",
    "    MethodDec(\"rD5\", \"a\", \"rD5\", \"qD5\"),\n",
    "    MethodDec(\"MSg\", \"j0\", \"SGd\"),\n",
    "    MethodDec(\"x45\", \"h\"),\n",
    "    MethodDec(\"GIb\", \"<init>\", skip_params=True)\n",
    ")"
   ]
  },
  {
   "cell_type": "markdown",
   "metadata": {},
   "source": [
    "# Processing\n",
    "\n",
    "## Strings as Characteristics\n",
    "\n",
    "Extracting Strings used either in the given methods directly or in the classes the methods define"
   ]
  },
  {
   "cell_type": "code",
   "execution_count": null,
   "metadata": {},
   "outputs": [],
   "source": [
    "resolved_classes = resolve_classes(dx, decs_to_find)\n",
    "resolved_methods = resolve_methods(decs_to_find, resolved_classes)\n",
    "decs_ma = dict(zip(decs_to_find, resolved_methods))\n",
    "\n",
    "if False:\n",
    "    print(\"Resolved all Classes and Methods\", *map(pretty_format_ma,resolved_methods), sep=\"\\n* \")"
   ]
  },
  {
   "cell_type": "markdown",
   "metadata": {},
   "source": [
    "### Utility functions for working with dx.get_strings()\n",
    "\n",
    "Filters Strings and xrefs to Strings. Only allow strings with (#xrefs < MAX_USAGE_COUNT_STR) to be used as characteristic to locate classes"
   ]
  },
  {
   "cell_type": "markdown",
   "metadata": {},
   "source": [
    "Building Maps of MethodDec and ClassNames associated to lists containing strings used in them"
   ]
  },
  {
   "cell_type": "markdown",
   "metadata": {},
   "source": [
    "### Count occurrences of strings\n",
    "\n",
    "Converting list of strings to a Counter object for faster comparisons"
   ]
  },
  {
   "cell_type": "markdown",
   "metadata": {},
   "source": [
    "### Searching for Found Strings\n",
    "\n",
    "Tries to resolve Classes and methods with the strings previously found\n",
    "\n",
    "* Loading second Apk File\n",
    "* Find All Strings found previously, build Map of potential matches (ClassName/Method to Counter)\n",
    "* Filter Potential Matches by comparing both Counter Objects"
   ]
  },
  {
   "cell_type": "markdown",
   "metadata": {},
   "source": [
    "#### Try to resolve Method\n",
    "Try to resolve classes by only using information about Strings (exact Counter Match)"
   ]
  },
  {
   "cell_type": "code",
   "execution_count": null,
   "metadata": {},
   "outputs": [],
   "source": [
    "accumulator = matcher.Accumulator()\n",
    "\n",
    "args = (dx, dx2, resolved_classes, decs_ma)"
   ]
  },
  {
   "cell_type": "code",
   "execution_count": null,
   "metadata": {
    "scrolled": true
   },
   "outputs": [],
   "source": [
    "string_matcher = strings.StringMatcher(*args, accumulator.get_unmatched_ms(decs_to_find))\n",
    "candidates_cs, candidates_ms = string_matcher.compare_counters()\n",
    "\n",
    "accumulator.add_candidates(candidates_cs, candidates_ms)"
   ]
  },
  {
   "cell_type": "markdown",
   "metadata": {},
   "source": [
    "### Fallback by unique strings\n",
    "\n",
    "To resolve unresolved methods, get all unique strings (strings only used by this class) and try to find the matching class by only searching for the unique string."
   ]
  },
  {
   "cell_type": "code",
   "execution_count": null,
   "metadata": {},
   "outputs": [],
   "source": [
    "candidates_cs = string_matcher.compare_unique_strings(accumulator.get_unmatched_cs(decs_to_find))\n",
    "\n",
    "print()\n",
    "print(\"| Applying Filtered Candidates to Accumulator\")\n",
    "print()\n",
    "accumulator.add_candidates(candidates_cs)"
   ]
  },
  {
   "cell_type": "markdown",
   "metadata": {},
   "source": [
    "### Using Class Information\n",
    "\n",
    "Gathers the following information and tries to find the correct classes by finding a similar \"Profile\"\n",
    "* Modifiers for Methods and Fields\n",
    "* \"static\" Field and return types of Methods\n",
    "* #Fields and #Methods"
   ]
  },
  {
   "cell_type": "code",
   "execution_count": null,
   "metadata": {},
   "outputs": [],
   "source": [
    "import importlib\n",
    "importlib.reload(structures)\n",
    "structure_matcher = structures.StructureMatcher(*args, accumulator.get_unmatched_ms(decs_to_find))\n",
    "candidates_cs = structure_matcher.get_exact_structure_matches(accumulator.get_unmatched_cs(decs_to_find))\n",
    "\n",
    "print(\"| Applying Candidates to Accumulator\")\n",
    "print()\n",
    "accumulator.add_candidates(candidates_cs)"
   ]
  },
  {
   "cell_type": "markdown",
   "metadata": {},
   "source": [
    "### Fallback if Class was found\n",
    "\n",
    "In case the class was found, but the method could not be resolved, check each method of the class for the following criteria:\n",
    "\n",
    "* Matching #xrefs_to\n",
    "* Matching #xrefs_from\n",
    "* Matching Code length\n",
    "\n",
    "All of these checks are currently strict/exact"
   ]
  },
  {
   "cell_type": "code",
   "execution_count": null,
   "metadata": {},
   "outputs": [],
   "source": [
    "# Compare Function\n",
    "cfs = [\n",
    "    (MethodAnalysis.get_access_flags_string, 4),\n",
    "    (get_usable_description, 10),\n",
    "    (MethodAnalysis.get_length, 1),\n",
    "    (lambda x: len(x.get_xref_to()), 1),\n",
    "    (lambda x: len(x.get_xref_from()), 1)\n",
    "]\n",
    "total_score = sum((score for _, score in cfs))"
   ]
  },
  {
   "cell_type": "code",
   "execution_count": null,
   "metadata": {},
   "outputs": [],
   "source": [
    "MIN_MATCH_POINTS = 2\n",
    "\n",
    "def try_resolve_ms(exact):    \n",
    "    candidates_ms2 = defaultdict(set)\n",
    "\n",
    "    for m in m_not_found:\n",
    "        if m.class_name in c_not_found:\n",
    "            print(\"> Could not find class of method\", m.pretty_format())\n",
    "            continue\n",
    "\n",
    "        class_name1 = FormatClassToJava(m.class_name)\n",
    "        class_name2 = matching_cs[class_name1]\n",
    "\n",
    "        for ma1 in dx.get_class_analysis(class_name1).get_methods():\n",
    "            if not m.equals_ma(ma1):\n",
    "                continue\n",
    "\n",
    "            m_match_points = {}\n",
    "            for ma2 in dx2.get_class_analysis(class_name2).get_methods():\n",
    "                \n",
    "                if exact:\n",
    "                    if all((c_fun(ma1) == c_fun(ma2)) * score for c_fun, score in cfs):\n",
    "                        candidates_ms2[m].add(ma2)\n",
    "                else:\n",
    "                    x = sum(((c_fun(ma1) == c_fun(ma2)) * score for c_fun, score in cfs))\n",
    "                    if x >= MIN_MATCH_POINTS:\n",
    "                        m_match_points[ma2] = x\n",
    "\n",
    "            if not exact:\n",
    "                max_matches = max(map(lambda x: x[1], m_match_points.items()))\n",
    "                c = [s[0] for s in m_match_points.items() if s[1] == max_matches]\n",
    "                \n",
    "                if len(c) == 0:\n",
    "                    print(\"- Could not find any matching candidate for\", pretty_format_ma(ma1))\n",
    "                elif len(c) == 1:\n",
    "                    print(f\"+ Found single non-exact candidate for matching method. (Certainty of {(max_matches / total_score):.2f})\", pretty_format_ma(ma1), pretty_format_ma(c[0]), sep=\"\\n\\t* \")\n",
    "                    matching_ms[m] = c[0]\n",
    "                else:\n",
    "                    candidates_ms2[m] |= set(c)\n",
    "                    print(\"* Found multiple non-exact candidates for matching method \" + str(m) + \":\\n\\t*\", \"\\n\\t* \".join(map(pretty_format_ma, c)))\n",
    "            break\n",
    "\n",
    "    for m, ms_li in candidates_ms2.items():\n",
    "        ms_li = list(ms_li)\n",
    "        if len(ms_li) == 1:\n",
    "            print(\"+ Found single candidate for matching method. Considering it a match!\",\n",
    "                  f\"\\n\\t{m.pretty_format()} -> {ms_li[0]}\")\n",
    "\n",
    "            matching_ms[m] = ms_li[0]\n",
    "            continue\n",
    "\n",
    "        print(f\"* Multiple Matches for method {m.pretty_format()}\", *map(pretty_format_ma, ms_li), sep=\"\\n\\t* \")\n",
    "        \n",
    "        if m in candidates_ms:\n",
    "            combined = set(ms_li) & set(candidates_ms[m])\n",
    "            if len(combined) == 0:\n",
    "                print(\"- Inner join on possible candidates resulted in no method match! for\", m)\n",
    "                continue\n",
    "            if len(combined) == 1:\n",
    "                el = list(combined)[0]\n",
    "                print(\"+ Inner join concluded single matching candidate. Considering match!\"\n",
    "                      + f\"\\n\\t{m.pretty_format()} -> {pretty_format_ma(el)}\")\n",
    "                matching_ms[m] = el\n",
    "                continue\n",
    "            if len(combined) < len(candidates[ms]):\n",
    "                print(f\".. Could narrow down search by combining candidates ({len(candidates[ms])} -> {len(combined)})\")\n",
    "                candidates[ms] = combined\n",
    "            \n",
    "    for m, ma2 in matching_ms.items():\n",
    "        if m in candidates_ms:\n",
    "            del candidates_ms[m]\n",
    "        \n",
    "try_resolve_ms(exact=True)\n",
    "m_not_found = decs_to_find - matching_ms.keys()\n",
    "\n",
    "print(\"Using non-exact Checks\")\n",
    "\n",
    "try_resolve_ms(exact=False)\n",
    "m_not_found = decs_to_find - matching_ms.keys()\n",
    "\n",
    "print(len(m_not_found), \"/\", len(decs_to_find))"
   ]
  },
  {
   "cell_type": "code",
   "execution_count": null,
   "metadata": {
    "scrolled": false
   },
   "outputs": [],
   "source": [
    "m_not_found = decs_to_find - matching_ms.keys()\n",
    "print(len(m_not_found), \"/\", len(decs_to_find))\n",
    "\n",
    "print()\n",
    "print(\"Classes that have not been found:\", *c_not_found, sep=\"\\n* \")\n",
    "print()\n",
    "print(\"Resolved MethodDecs:\")\n",
    "for m, ma2 in matching_ms.items():\n",
    "    print(\"*\", m.pretty_format(), \"->\", pretty_format_ma(ma2))\n",
    "for m in m_not_found:\n",
    "    print(\"-\", m.pretty_format())"
   ]
  },
  {
   "cell_type": "code",
   "execution_count": null,
   "metadata": {},
   "outputs": [],
   "source": []
  }
 ],
 "metadata": {
  "kernelspec": {
   "display_name": "Python 3",
   "language": "python",
   "name": "python3"
  },
  "language_info": {
   "codemirror_mode": {
    "name": "ipython",
    "version": 3
   },
   "file_extension": ".py",
   "mimetype": "text/x-python",
   "name": "python",
   "nbconvert_exporter": "python",
   "pygments_lexer": "ipython3",
   "version": "3.8.3"
  }
 },
 "nbformat": 4,
 "nbformat_minor": 4
}
